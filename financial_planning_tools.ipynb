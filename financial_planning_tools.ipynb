{
 "cells": [
  {
   "cell_type": "markdown",
   "metadata": {},
   "source": [
    "# Financial Planning with APIs and Simulations\n",
    "\n",
    "In this Challenge, you’ll create two financial analysis tools by using a single Jupyter notebook:\n",
    "\n",
    "Part 1: A financial planner for emergencies. The members will be able to use this tool to visualize their current savings. The members can then determine if they have enough reserves for an emergency fund.\n",
    "\n",
    "Part 2: A financial planner for retirement. This tool will forecast the performance of their retirement portfolio in 30 years. To do this, the tool will make an Alpaca API call via the Alpaca SDK to get historical price data for use in Monte Carlo simulations.\n",
    "\n",
    "You’ll use the information from the Monte Carlo simulation to answer questions about the portfolio in your Jupyter notebook.\n",
    "\n"
   ]
  },
  {
   "cell_type": "code",
   "execution_count": 1,
   "metadata": {
    "tags": []
   },
   "outputs": [],
   "source": [
    "#!pip install python-dotenv"
   ]
  },
  {
   "cell_type": "code",
   "execution_count": 2,
   "metadata": {},
   "outputs": [],
   "source": [
    "#!pip install matplotlib"
   ]
  },
  {
   "cell_type": "code",
   "execution_count": 3,
   "metadata": {},
   "outputs": [],
   "source": [
    "# Import the required libraries and dependencies\n",
    "import os\n",
    "import requests\n",
    "import json\n",
    "import pandas as pd\n",
    "from dotenv import load_dotenv\n",
    "import alpaca_trade_api as tradeapi\n",
    "from MCForecastTools import MCSimulation\n",
    "from warnings import simplefilter\n",
    "\n",
    "#import matpotlib.pyplot as plt\n",
    "\n",
    "%matplotlib inline"
   ]
  },
  {
   "cell_type": "code",
   "execution_count": 4,
   "metadata": {},
   "outputs": [],
   "source": [
    "simplefilter(action=\"ignore\", category=pd.errors.PerformanceWarning)"
   ]
  },
  {
   "cell_type": "code",
   "execution_count": 5,
   "metadata": {},
   "outputs": [],
   "source": [
    "#!pip install alpaca-trade-api"
   ]
  },
  {
   "cell_type": "code",
   "execution_count": 6,
   "metadata": {},
   "outputs": [
    {
     "data": {
      "text/plain": [
       "True"
      ]
     },
     "execution_count": 6,
     "metadata": {},
     "output_type": "execute_result"
    }
   ],
   "source": [
    "# Load the environment variables from the .env file\n",
    "#by calling the load_dotenv function\n",
    "load_dotenv()"
   ]
  },
  {
   "cell_type": "markdown",
   "metadata": {},
   "source": [
    "## Part 1: Create a Financial Planner for Emergencies"
   ]
  },
  {
   "cell_type": "markdown",
   "metadata": {},
   "source": [
    "### Evaluate the Cryptocurrency Wallet by Using the Requests Library\n",
    "\n",
    "In this section, you’ll determine the current value of a member’s cryptocurrency wallet. You’ll collect the current prices for the Bitcoin and Ethereum cryptocurrencies by using the Python Requests library. For the prototype, you’ll assume that the member holds the 1.2 Bitcoins (BTC) and 5.3 Ethereum coins (ETH). To do all this, complete the following steps:\n",
    "\n",
    "1. Create a variable named `monthly_income`, and set its value to `12000`.\n",
    "\n",
    "2. Use the Requests library to get the current price (in US dollars) of Bitcoin (BTC) and Ethereum (ETH) by using the API endpoints that the starter code supplies.\n",
    "\n",
    "3. Navigate the JSON response object to access the current price of each coin, and store each in a variable.\n",
    "\n",
    "    > **Hint** Note the specific identifier for each cryptocurrency in the API JSON response. The Bitcoin identifier is `1`, and the Ethereum identifier is `1027`.\n",
    "\n",
    "4. Calculate the value, in US dollars, of the current amount of each cryptocurrency and of the entire cryptocurrency wallet.\n",
    "\n"
   ]
  },
  {
   "cell_type": "code",
   "execution_count": 7,
   "metadata": {},
   "outputs": [],
   "source": [
    "# The current number of coins for each cryptocurrency asset held in the portfolio.\n",
    "btc_coins = 1.2\n",
    "eth_coins = 5.3"
   ]
  },
  {
   "cell_type": "markdown",
   "metadata": {},
   "source": [
    "#### Step 1: Create a variable named `monthly_income`, and set its value to `12000`."
   ]
  },
  {
   "cell_type": "code",
   "execution_count": 8,
   "metadata": {},
   "outputs": [],
   "source": [
    "# The monthly amount for the member's household income\n",
    "monthly_income = 12000\n"
   ]
  },
  {
   "cell_type": "markdown",
   "metadata": {},
   "source": [
    "#### Review the endpoint URLs for the API calls to Free Crypto API in order to get the current pricing information for both BTC and ETH."
   ]
  },
  {
   "cell_type": "code",
   "execution_count": 9,
   "metadata": {},
   "outputs": [],
   "source": [
    "# The Free Crypto API Call endpoint URLs for the held cryptocurrency assets\n",
    "btc_url = \"https://api.alternative.me/v2/ticker/Bitcoin/?convert=USD\"\n",
    "eth_url = \"https://api.alternative.me/v2/ticker/Ethereum/?convert=USD\""
   ]
  },
  {
   "cell_type": "markdown",
   "metadata": {},
   "source": [
    "#### Step 2. Use the Requests library to get the current price (in US dollars) of Bitcoin (BTC) and Ethereum (ETH) by using the API endpoints that the starter code supplied."
   ]
  },
  {
   "cell_type": "code",
   "execution_count": 10,
   "metadata": {},
   "outputs": [
    {
     "name": "stdout",
     "output_type": "stream",
     "text": [
      "{\n",
      "    \"data\": {\n",
      "        \"1\": {\n",
      "            \"circulating_supply\": 19361612,\n",
      "            \"id\": 1,\n",
      "            \"last_updated\": 1682973561,\n",
      "            \"max_supply\": 21000000,\n",
      "            \"name\": \"Bitcoin\",\n",
      "            \"quotes\": {\n",
      "                \"USD\": {\n",
      "                    \"market_cap\": 539225275953,\n",
      "                    \"percent_change_1h\": -0.123759090779096,\n",
      "                    \"percent_change_24h\": -4.87599141889639,\n",
      "                    \"percent_change_7d\": 1.01104845774418,\n",
      "                    \"percentage_change_1h\": -0.123759090779096,\n",
      "                    \"percentage_change_24h\": -4.87599141889639,\n",
      "                    \"percentage_change_7d\": 1.01104845774418,\n",
      "                    \"price\": 27886.0,\n",
      "                    \"volume_24h\": 19413149597\n",
      "                }\n",
      "            },\n",
      "            \"rank\": 1,\n",
      "            \"symbol\": \"BTC\",\n",
      "            \"total_supply\": 19361612,\n",
      "            \"website_slug\": \"bitcoin\"\n",
      "        }\n",
      "    },\n",
      "    \"metadata\": {\n",
      "        \"error\": null,\n",
      "        \"num_cryptocurrencies\": 3119,\n",
      "        \"timestamp\": 1682973561\n",
      "    }\n",
      "}\n"
     ]
    }
   ],
   "source": [
    "# Using the Python requests library, make an API call to access the current price of BTC\n",
    "btc_response = requests.get(btc_url).json()\n",
    "\n",
    "\n",
    "# Use the json.dumps function to review the response data from the API call\n",
    "# Use the indent and sort_keys parameters to make the response object readable\n",
    "print(json.dumps(btc_response, indent=4, sort_keys=True))\n",
    "\n"
   ]
  },
  {
   "cell_type": "code",
   "execution_count": 11,
   "metadata": {},
   "outputs": [
    {
     "name": "stdout",
     "output_type": "stream",
     "text": [
      "{\n",
      "    \"data\": {\n",
      "        \"1027\": {\n",
      "            \"circulating_supply\": 120393880,\n",
      "            \"id\": 1027,\n",
      "            \"last_updated\": 1682973560,\n",
      "            \"max_supply\": 120393880,\n",
      "            \"name\": \"Ethereum\",\n",
      "            \"quotes\": {\n",
      "                \"USD\": {\n",
      "                    \"market_cap\": 218622169563,\n",
      "                    \"percent_change_1h\": 0.0923076547168971,\n",
      "                    \"percent_change_24h\": -3.9238506018378,\n",
      "                    \"percent_change_7d\": -2.47293767690072,\n",
      "                    \"percentage_change_1h\": 0.0923076547168971,\n",
      "                    \"percentage_change_24h\": -3.9238506018378,\n",
      "                    \"percentage_change_7d\": -2.47293767690072,\n",
      "                    \"price\": 1817.55,\n",
      "                    \"volume_24h\": 9512824017\n",
      "                }\n",
      "            },\n",
      "            \"rank\": 2,\n",
      "            \"symbol\": \"ETH\",\n",
      "            \"total_supply\": 120393880,\n",
      "            \"website_slug\": \"ethereum\"\n",
      "        }\n",
      "    },\n",
      "    \"metadata\": {\n",
      "        \"error\": null,\n",
      "        \"num_cryptocurrencies\": 3119,\n",
      "        \"timestamp\": 1682973560\n",
      "    }\n",
      "}\n"
     ]
    }
   ],
   "source": [
    "# Using the Python requests library, make an API call to access the current price ETH\n",
    "eth_response = requests.get(eth_url).json()\n",
    "\n",
    "# Use the json.dumps function to review the response data from the API call\n",
    "# Use the indent and sort_keys parameters to make the response object readable\n",
    "print(json.dumps(eth_response, indent=4,sort_keys=True))\n"
   ]
  },
  {
   "cell_type": "markdown",
   "metadata": {},
   "source": [
    "#### Step 3: Navigate the JSON response object to access the current price of each coin, and store each in a variable."
   ]
  },
  {
   "cell_type": "code",
   "execution_count": 12,
   "metadata": {},
   "outputs": [
    {
     "data": {
      "text/plain": [
       "27886.0"
      ]
     },
     "execution_count": 12,
     "metadata": {},
     "output_type": "execute_result"
    }
   ],
   "source": [
    "# Navigate the BTC response object to access the current price of BTC\n",
    "btc_price = btc_response[\"data\"][\"1\"][\"quotes\"][\"USD\"][\"price\"]\n",
    "\n",
    "# Print the current price of BTC\n",
    "btc_price\n"
   ]
  },
  {
   "cell_type": "code",
   "execution_count": 13,
   "metadata": {},
   "outputs": [
    {
     "data": {
      "text/plain": [
       "1817.55"
      ]
     },
     "execution_count": 13,
     "metadata": {},
     "output_type": "execute_result"
    }
   ],
   "source": [
    "# Navigate the BTC response object to access the current price of ETH\n",
    "eth_price = eth_response[\"data\"][\"1027\"][\"quotes\"][\"USD\"][\"price\"]\n",
    "\n",
    "# Print the current price of ETH\n",
    "eth_price\n"
   ]
  },
  {
   "cell_type": "markdown",
   "metadata": {},
   "source": [
    "### Step 4: Calculate the value, in US dollars, of the current amount of each cryptocurrency and of the entire cryptocurrency wallet."
   ]
  },
  {
   "cell_type": "code",
   "execution_count": 14,
   "metadata": {},
   "outputs": [
    {
     "data": {
      "text/plain": [
       "33463.2"
      ]
     },
     "execution_count": 14,
     "metadata": {},
     "output_type": "execute_result"
    }
   ],
   "source": [
    "# Compute the current value of the BTC holding \n",
    "btc_value = btc_coins * btc_price\n",
    "\n",
    "# Print current value of your holding in BTC\n",
    "btc_value\n"
   ]
  },
  {
   "cell_type": "code",
   "execution_count": 15,
   "metadata": {},
   "outputs": [
    {
     "data": {
      "text/plain": [
       "9633.015"
      ]
     },
     "execution_count": 15,
     "metadata": {},
     "output_type": "execute_result"
    }
   ],
   "source": [
    "# Compute the current value of the ETH holding \n",
    "eth_value = eth_coins * eth_price\n",
    "\n",
    "# Print current value of your holding in ETH\n",
    "eth_value\n"
   ]
  },
  {
   "cell_type": "code",
   "execution_count": 16,
   "metadata": {},
   "outputs": [
    {
     "data": {
      "text/plain": [
       "43096.215"
      ]
     },
     "execution_count": 16,
     "metadata": {},
     "output_type": "execute_result"
    }
   ],
   "source": [
    "# Compute the total value of the cryptocurrency wallet\n",
    "# Add the value of the BTC holding to the value of the ETH holding\n",
    "total_crypto_wallet = btc_value + eth_value\n",
    "\n",
    "# Print current cryptocurrency wallet balance\n",
    "total_crypto_wallet\n"
   ]
  },
  {
   "cell_type": "markdown",
   "metadata": {},
   "source": [
    "### Evaluate the Stock and Bond Holdings by Using the Alpaca SDK\n",
    "\n",
    "In this section, you’ll determine the current value of a member’s stock and bond holdings. You’ll make an API call to Alpaca via the Alpaca SDK to get the current closing prices of the SPDR S&P 500 ETF Trust (ticker: SPY) and of the iShares Core US Aggregate Bond ETF (ticker: AGG). For the prototype, assume that the member holds 110 shares of SPY, which represents the stock portion of their portfolio, and 200 shares of AGG, which represents the bond portion. To do all this, complete the following steps:\n",
    "\n",
    "1. In the `Starter_Code` folder, create an environment file (`.env`) to store the values of your Alpaca API key and Alpaca secret key.\n",
    "\n",
    "2. Set the variables for the Alpaca API and secret keys. Using the Alpaca SDK, create the Alpaca `tradeapi.REST` object. In this object, include the parameters for the Alpaca API key, the secret key, and the version number.\n",
    "\n",
    "3. Set the following parameters for the Alpaca API call:\n",
    "\n",
    "    - `tickers`: Use the tickers for the member’s stock and bond holdings.\n",
    "\n",
    "    - `timeframe`: Use a time frame of one day.\n",
    "\n",
    "    - `start_date` and `end_date`: Use the same date for these parameters, and format them with the date of the previous weekday (or `2020-08-07`). This is because you want the one closing price for the most-recent trading day.\n",
    "\n",
    "4. Get the current closing prices for `SPY` and `AGG` by using the Alpaca `get_bars` function. Format the response as a Pandas DataFrame by including the `df` property at the end of the `get_bars` function.\n",
    "\n",
    "5. Navigating the Alpaca response DataFrame, select the `SPY` and `AGG` closing prices, and store them as variables.\n",
    "\n",
    "6. Calculate the value, in US dollars, of the current amount of shares in each of the stock and bond portions of the portfolio, and print the results.\n"
   ]
  },
  {
   "cell_type": "markdown",
   "metadata": {},
   "source": [
    "#### Review the total number of shares held in both (SPY) and (AGG)."
   ]
  },
  {
   "cell_type": "code",
   "execution_count": 17,
   "metadata": {},
   "outputs": [],
   "source": [
    "# Current amount of shares held in both the stock (SPY) and bond (AGG) portion of the portfolio.\n",
    "spy_shares = 110\n",
    "agg_shares = 200\n"
   ]
  },
  {
   "cell_type": "markdown",
   "metadata": {},
   "source": [
    "#### Step 1: In the `Starter_Code` folder, create an environment file (`.env`) to store the values of your Alpaca API key and Alpaca secret key."
   ]
  },
  {
   "cell_type": "markdown",
   "metadata": {},
   "source": [
    "#### Step 2: Set the variables for the Alpaca API and secret keys. Using the Alpaca SDK, create the Alpaca `tradeapi.REST` object. In this object, include the parameters for the Alpaca API key, the secret key, and the version number."
   ]
  },
  {
   "cell_type": "code",
   "execution_count": 18,
   "metadata": {},
   "outputs": [],
   "source": [
    "# Set the variables for the Alpaca API and secret keys\n",
    "alpaca_api_key = os.getenv(\"ALPACA_API_KEY\")\n",
    "alpaca_secret_key = os.getenv(\"ALPACA_SECRET_KEY\")\n",
    "\n",
    "# Create the Alpaca tradeapi.REST object\n",
    "alpaca = tradeapi.REST(\n",
    "    alpaca_api_key,\n",
    "    alpaca_secret_key,\n",
    "    api_version=\"v2\")"
   ]
  },
  {
   "cell_type": "code",
   "execution_count": 19,
   "metadata": {},
   "outputs": [
    {
     "name": "stdout",
     "output_type": "stream",
     "text": [
      "Alpaca Key type:<class 'str'>\n",
      "Alpaca Secret Key type: <class 'str'>\n"
     ]
    }
   ],
   "source": [
    "print(f\"Alpaca Key type:{type(alpaca_api_key)}\")\n",
    "print(f\"Alpaca Secret Key type: {type(alpaca_secret_key)}\")"
   ]
  },
  {
   "cell_type": "code",
   "execution_count": 20,
   "metadata": {},
   "outputs": [
    {
     "data": {
      "text/plain": [
       "'PselrRhHz1ZGXFhp24BQtHbbcodnz4PKqUCMYlgO'"
      ]
     },
     "execution_count": 20,
     "metadata": {},
     "output_type": "execute_result"
    }
   ],
   "source": [
    "alpaca_secret_key"
   ]
  },
  {
   "cell_type": "markdown",
   "metadata": {},
   "source": [
    "#### Step 3: Set the following parameters for the Alpaca API call:\n",
    "\n",
    "- `tickers`: Use the tickers for the member’s stock and bond holdings.\n",
    "\n",
    "- `timeframe`: Use a time frame of one day.\n",
    "\n",
    "- `start_date` and `end_date`: Use the same date for these parameters, and format them with the date of the previous weekday (or `2020-08-07`). This is because you want the one closing price for the most-recent trading day.\n"
   ]
  },
  {
   "cell_type": "code",
   "execution_count": 21,
   "metadata": {},
   "outputs": [
    {
     "data": {
      "text/plain": [
       "<alpaca_trade_api.rest.REST at 0x29a9bf15c70>"
      ]
     },
     "execution_count": 21,
     "metadata": {},
     "output_type": "execute_result"
    }
   ],
   "source": [
    "alpaca"
   ]
  },
  {
   "cell_type": "code",
   "execution_count": 22,
   "metadata": {},
   "outputs": [],
   "source": [
    "# Set the tickers for both the bond and stock portion of the portfolio\n",
    "ticker = [\"SPY\",\"AGG\"]\n",
    "\n",
    "# Set timeframe to 1Day\n",
    "timeframe = \"1Day\"\n",
    "\n",
    "# Format current date as ISO format\n",
    "# Set both the start and end date at the date of your prior weekday \n",
    "# This will give you the closing price of the previous trading day\n",
    "# Alternatively you can use a start and end date of 2020-08-07\n",
    "start_date = pd.Timestamp(\"2020-08-07\", tz=\"America/New_York\").isoformat()\n",
    "end_date = pd.Timestamp(\"2020-08-07\", tz=\"America/New_York\").isoformat()\n"
   ]
  },
  {
   "cell_type": "markdown",
   "metadata": {},
   "source": [
    "#### Step 4: Get the current closing prices for `SPY` and `AGG` by using the Alpaca `get_bars` function. Format the response as a Pandas DataFrame by including the `df` property at the end of the `get_bars` function."
   ]
  },
  {
   "cell_type": "code",
   "execution_count": 23,
   "metadata": {},
   "outputs": [
    {
     "data": {
      "text/html": [
       "<div>\n",
       "<style scoped>\n",
       "    .dataframe tbody tr th:only-of-type {\n",
       "        vertical-align: middle;\n",
       "    }\n",
       "\n",
       "    .dataframe tbody tr th {\n",
       "        vertical-align: top;\n",
       "    }\n",
       "\n",
       "    .dataframe thead tr th {\n",
       "        text-align: left;\n",
       "    }\n",
       "\n",
       "    .dataframe thead tr:last-of-type th {\n",
       "        text-align: right;\n",
       "    }\n",
       "</style>\n",
       "<table border=\"1\" class=\"dataframe\">\n",
       "  <thead>\n",
       "    <tr>\n",
       "      <th></th>\n",
       "      <th colspan=\"7\" halign=\"left\">SPY</th>\n",
       "      <th colspan=\"7\" halign=\"left\">AGG</th>\n",
       "    </tr>\n",
       "    <tr>\n",
       "      <th></th>\n",
       "      <th>open</th>\n",
       "      <th>high</th>\n",
       "      <th>low</th>\n",
       "      <th>close</th>\n",
       "      <th>volume</th>\n",
       "      <th>trade_count</th>\n",
       "      <th>vwap</th>\n",
       "      <th>open</th>\n",
       "      <th>high</th>\n",
       "      <th>low</th>\n",
       "      <th>close</th>\n",
       "      <th>volume</th>\n",
       "      <th>trade_count</th>\n",
       "      <th>vwap</th>\n",
       "    </tr>\n",
       "    <tr>\n",
       "      <th>timestamp</th>\n",
       "      <th></th>\n",
       "      <th></th>\n",
       "      <th></th>\n",
       "      <th></th>\n",
       "      <th></th>\n",
       "      <th></th>\n",
       "      <th></th>\n",
       "      <th></th>\n",
       "      <th></th>\n",
       "      <th></th>\n",
       "      <th></th>\n",
       "      <th></th>\n",
       "      <th></th>\n",
       "      <th></th>\n",
       "    </tr>\n",
       "  </thead>\n",
       "  <tbody>\n",
       "    <tr>\n",
       "      <th>2020-08-07 04:00:00+00:00</th>\n",
       "      <td>333.28</td>\n",
       "      <td>334.88</td>\n",
       "      <td>332.3</td>\n",
       "      <td>334.57</td>\n",
       "      <td>57282821</td>\n",
       "      <td>350100</td>\n",
       "      <td>333.800372</td>\n",
       "      <td>119.66</td>\n",
       "      <td>119.73</td>\n",
       "      <td>119.395</td>\n",
       "      <td>119.43</td>\n",
       "      <td>5559066</td>\n",
       "      <td>15246</td>\n",
       "      <td>119.475306</td>\n",
       "    </tr>\n",
       "  </tbody>\n",
       "</table>\n",
       "</div>"
      ],
      "text/plain": [
       "                              SPY                                   \\\n",
       "                             open    high    low   close    volume   \n",
       "timestamp                                                            \n",
       "2020-08-07 04:00:00+00:00  333.28  334.88  332.3  334.57  57282821   \n",
       "\n",
       "                                                      AGG                   \\\n",
       "                          trade_count        vwap    open    high      low   \n",
       "timestamp                                                                    \n",
       "2020-08-07 04:00:00+00:00      350100  333.800372  119.66  119.73  119.395   \n",
       "\n",
       "                                                                    \n",
       "                            close   volume trade_count        vwap  \n",
       "timestamp                                                           \n",
       "2020-08-07 04:00:00+00:00  119.43  5559066       15246  119.475306  "
      ]
     },
     "execution_count": 23,
     "metadata": {},
     "output_type": "execute_result"
    }
   ],
   "source": [
    "# Use the Alpaca get_bars function to get current closing prices the portfolio\n",
    "# Be sure to set the `df` property after the function to format the response object as a DataFrame\n",
    "df_ticker = alpaca.get_bars(\n",
    "     ticker,\n",
    "     timeframe,\n",
    "     start=start_date,\n",
    "     end=end_date\n",
    ").df\n",
    "\n",
    "# Reorganize the DataFrame\n",
    "# Separate ticker data\n",
    "SPY_SHARES = df_ticker[df_ticker['symbol']=='SPY'].drop('symbol', axis=1)\n",
    "AGG_SHARES = df_ticker[df_ticker['symbol']=='AGG'].drop('symbol', axis=1)\n",
    "# Concatenate the ticker DataFrames\n",
    "df_ticker = pd.concat([SPY_SHARES,AGG_SHARES], axis=1, keys=[\"SPY\",\"AGG\"])\n",
    "\n",
    "# Review the first 5 rows of the Alpaca DataFrame\n",
    "df_ticker.head(10)\n"
   ]
  },
  {
   "cell_type": "markdown",
   "metadata": {},
   "source": [
    "#### Step 5: Navigating the Alpaca response DataFrame, select the `SPY` and `AGG` closing prices, and store them as variables."
   ]
  },
  {
   "cell_type": "code",
   "execution_count": 24,
   "metadata": {},
   "outputs": [
    {
     "data": {
      "text/plain": [
       "119.43"
      ]
     },
     "execution_count": 24,
     "metadata": {},
     "output_type": "execute_result"
    }
   ],
   "source": [
    "# Access the closing price for AGG from the Alpaca DataFrame\n",
    "# Converting the value to a floating point number\n",
    "agg_close_price = float( df_ticker[\"AGG\"][\"close\"][0])\n",
    "\n",
    "# Print the AGG closing price\n",
    "agg_close_price"
   ]
  },
  {
   "cell_type": "code",
   "execution_count": 25,
   "metadata": {},
   "outputs": [
    {
     "data": {
      "text/plain": [
       "334.57"
      ]
     },
     "execution_count": 25,
     "metadata": {},
     "output_type": "execute_result"
    }
   ],
   "source": [
    "# Access the closing price for SPY from the Alpaca DataFrame\n",
    "# Converting the value to a floating point number\n",
    "spy_close_price = float( df_ticker[\"SPY\"][\"close\"][0])\n",
    "\n",
    "# Print the SPY closing price\n",
    "spy_close_price"
   ]
  },
  {
   "cell_type": "markdown",
   "metadata": {},
   "source": [
    "#### Step 6: Calculate the value, in US dollars, of the current amount of shares in each of the stock and bond portions of the portfolio, and print the results."
   ]
  },
  {
   "cell_type": "code",
   "execution_count": 26,
   "metadata": {},
   "outputs": [
    {
     "data": {
      "text/plain": [
       "23886.0"
      ]
     },
     "execution_count": 26,
     "metadata": {},
     "output_type": "execute_result"
    }
   ],
   "source": [
    "# Calculate the current value of the bond portion of the portfolio\n",
    "agg_value = agg_shares * agg_close_price\n",
    "\n",
    "# Print the current value of the bond portfolio\n",
    "agg_value\n"
   ]
  },
  {
   "cell_type": "code",
   "execution_count": 27,
   "metadata": {},
   "outputs": [
    {
     "data": {
      "text/plain": [
       "36802.7"
      ]
     },
     "execution_count": 27,
     "metadata": {},
     "output_type": "execute_result"
    }
   ],
   "source": [
    "# Calculate the current value of the stock portion of the portfolio\n",
    "spy_value = spy_shares * spy_close_price\n",
    "\n",
    "# Print the current value of the stock portfolio\n",
    "spy_value\n"
   ]
  },
  {
   "cell_type": "code",
   "execution_count": 28,
   "metadata": {},
   "outputs": [
    {
     "data": {
      "text/plain": [
       "60688.7"
      ]
     },
     "execution_count": 28,
     "metadata": {},
     "output_type": "execute_result"
    }
   ],
   "source": [
    "# Calculate the total value of the stock and bond portion of the portfolio\n",
    "total_stocks_bonds = agg_value + spy_value\n",
    "\n",
    "# Print the current balance of the stock and bond portion of the portfolio\n",
    "total_stocks_bonds\n"
   ]
  },
  {
   "cell_type": "code",
   "execution_count": 29,
   "metadata": {},
   "outputs": [
    {
     "data": {
      "text/plain": [
       "103784.915"
      ]
     },
     "execution_count": 29,
     "metadata": {},
     "output_type": "execute_result"
    }
   ],
   "source": [
    "# Calculate the total value of the member's entire savings portfolio\n",
    "# Add the value of the cryptocurrency walled to the value of the total stocks and bonds\n",
    "total_portfolio = total_stocks_bonds + total_crypto_wallet\n",
    "\n",
    "# Print current cryptocurrency wallet balance\n",
    "total_portfolio"
   ]
  },
  {
   "cell_type": "markdown",
   "metadata": {},
   "source": [
    "### Evaluate the Emergency Fund\n",
    "\n",
    "In this section, you’ll use the valuations for the cryptocurrency wallet and for the stock and bond portions of the portfolio to determine if the credit union member has enough savings to build an emergency fund into their financial plan. To do this, complete the following steps:\n",
    "\n",
    "1. Create a Python list named `savings_data` that has two elements. The first element contains the total value of the cryptocurrency wallet. The second element contains the total value of the stock and bond portions of the portfolio.\n",
    "\n",
    "2. Use the `savings_data` list to create a Pandas DataFrame named `savings_df`, and then display this DataFrame. The function to create the DataFrame should take the following three parameters:\n",
    "\n",
    "    - `savings_data`: Use the list that you just created.\n",
    "\n",
    "    - `columns`: Set this parameter equal to a Python list with a single value called `amount`.\n",
    "\n",
    "    - `index`: Set this parameter equal to a Python list with the values of `crypto` and `stock/bond`.\n",
    "\n",
    "3. Use the `savings_df` DataFrame to plot a pie chart that visualizes the composition of the member’s portfolio. The y-axis of the pie chart uses `amount`. Be sure to add a title.\n",
    "\n",
    "4. Using Python, determine if the current portfolio has enough to create an emergency fund as part of the member’s financial plan. Ideally, an emergency fund should equal to three times the member’s monthly income. To do this, implement the following steps:\n",
    "\n",
    "    1. Create a variable named `emergency_fund_value`, and set it equal to three times the value of the member’s `monthly_income` of $12000. (You set this earlier in Part 1).\n",
    "\n",
    "    2. Create a series of three if statements to determine if the member’s total portfolio is large enough to fund the emergency portfolio:\n",
    "\n",
    "        1. If the total portfolio value is greater than the emergency fund value, display a message congratulating the member for having enough money in this fund.\n",
    "\n",
    "        2. Else if the total portfolio value is equal to the emergency fund value, display a message congratulating the member on reaching this important financial goal.\n",
    "\n",
    "        3. Else the total portfolio is less than the emergency fund value, so display a message showing how many dollars away the member is from reaching the goal. (Subtract the total portfolio value from the emergency fund value.)\n"
   ]
  },
  {
   "cell_type": "markdown",
   "metadata": {},
   "source": [
    "#### Step 1: Create a Python list named `savings_data` that has two elements. The first element contains the total value of the cryptocurrency wallet. The second element contains the total value of the stock and bond portions of the portfolio."
   ]
  },
  {
   "cell_type": "code",
   "execution_count": 30,
   "metadata": {},
   "outputs": [
    {
     "data": {
      "text/plain": [
       "[43096.215, 60688.7]"
      ]
     },
     "execution_count": 30,
     "metadata": {},
     "output_type": "execute_result"
    }
   ],
   "source": [
    "# Consolidate financial assets data into a Python list\n",
    "savings_data = [total_crypto_wallet, total_stocks_bonds]\n",
    "\n",
    "# Review the Python list savings_data\n",
    "savings_data"
   ]
  },
  {
   "cell_type": "markdown",
   "metadata": {},
   "source": [
    "Step 2: Use the `savings_data` list to create a Pandas DataFrame named `savings_df`, and then display this DataFrame. The function to create the DataFrame should take the following three parameters:\n",
    "\n",
    "#`savings_data`: Use the list that you just created.\n",
    "\n",
    "#`columns`: Set this parameter equal to a Python list with a single value called `amount`.\n",
    "\n",
    "#`index`: Set this parameter equal to a Python list with the values of `crypto` and `stock/bond`.\n"
   ]
  },
  {
   "cell_type": "code",
   "execution_count": 31,
   "metadata": {},
   "outputs": [
    {
     "data": {
      "text/html": [
       "<div>\n",
       "<style scoped>\n",
       "    .dataframe tbody tr th:only-of-type {\n",
       "        vertical-align: middle;\n",
       "    }\n",
       "\n",
       "    .dataframe tbody tr th {\n",
       "        vertical-align: top;\n",
       "    }\n",
       "\n",
       "    .dataframe thead th {\n",
       "        text-align: right;\n",
       "    }\n",
       "</style>\n",
       "<table border=\"1\" class=\"dataframe\">\n",
       "  <thead>\n",
       "    <tr style=\"text-align: right;\">\n",
       "      <th></th>\n",
       "      <th>amount</th>\n",
       "    </tr>\n",
       "  </thead>\n",
       "  <tbody>\n",
       "    <tr>\n",
       "      <th>crypto</th>\n",
       "      <td>43096.215</td>\n",
       "    </tr>\n",
       "    <tr>\n",
       "      <th>shares</th>\n",
       "      <td>60688.700</td>\n",
       "    </tr>\n",
       "  </tbody>\n",
       "</table>\n",
       "</div>"
      ],
      "text/plain": [
       "           amount\n",
       "crypto  43096.215\n",
       "shares  60688.700"
      ]
     },
     "execution_count": 31,
     "metadata": {},
     "output_type": "execute_result"
    }
   ],
   "source": [
    "# Create a Pandas DataFrame called savings_df \n",
    "#savings_data\n",
    "savings_df = pd.DataFrame(savings_data,columns =[\"amount\"], index=[\"crypto\",\"shares\"])\n",
    "# Display the savings_df DataFrame\n",
    "savings_df"
   ]
  },
  {
   "cell_type": "markdown",
   "metadata": {},
   "source": [
    "#### Step 3: Use the `savings_df` DataFrame to plot a pie chart that visualizes the composition of the member’s portfolio. The y-axis of the pie chart uses `amount`. Be sure to add a title."
   ]
  },
  {
   "cell_type": "code",
   "execution_count": 32,
   "metadata": {},
   "outputs": [
    {
     "data": {
      "text/plain": [
       "<Axes: title={'center': 'total portfolio value'}, ylabel='amount'>"
      ]
     },
     "execution_count": 32,
     "metadata": {},
     "output_type": "execute_result"
    },
    {
     "data": {
      "image/png": "[encoded data removed]",
      "text/plain": [
       "<Figure size 640x480 with 1 Axes>"
      ]
     },
     "metadata": {},
     "output_type": "display_data"
    }
   ],
   "source": [
    "# Plot the total value of the member's portfolio (crypto and stock/bond) in a pie chart\n",
    "savings_df.plot.pie(y= \"amount\", legend = True,\n",
    "               title = \"total portfolio value\")\n"
   ]
  },
  {
   "cell_type": "markdown",
   "metadata": {},
   "source": [
    "#### Step 4: Using Python, determine if the current portfolio has enough to create an emergency fund as part of the member’s financial plan. Ideally, an emergency fund should equal to three times the member’s monthly income. To do this, implement the following steps:\n",
    "\n",
    "Step 1. Create a variable named `emergency_fund_value`, and set it equal to three times the value of the member’s `monthly_income` of 12000. (You set this earlier in Part 1).\n",
    "\n",
    "Step 2. Create a series of three if statements to determine if the member’s total portfolio is large enough to fund the emergency portfolio:\n",
    "\n",
    "* If the total portfolio value is greater than the emergency fund value, display a message congratulating the member for having enough money in this fund.\n",
    "\n",
    "* Else if the total portfolio value is equal to the emergency fund value, display a message congratulating the member on reaching this important financial goal.\n",
    "\n",
    "* Else the total portfolio is less than the emergency fund value, so display a message showing how many dollars away the member is from reaching the goal. (Subtract the total portfolio value from the emergency fund value.)\n"
   ]
  },
  {
   "cell_type": "markdown",
   "metadata": {},
   "source": [
    "##### Step 4-1: Create a variable named `emergency_fund_value`, and set it equal to three times the value of the member’s `monthly_income` of 12000. (You set this earlier in Part 1)."
   ]
  },
  {
   "cell_type": "code",
   "execution_count": 33,
   "metadata": {},
   "outputs": [],
   "source": [
    "# Create a variable named emergency_fund_value\n",
    "emergency_fund_value = monthly_income * 3\n"
   ]
  },
  {
   "cell_type": "code",
   "execution_count": 34,
   "metadata": {},
   "outputs": [],
   "source": [
    "total_portfolio_sum = float( savings_df.sum())"
   ]
  },
  {
   "cell_type": "markdown",
   "metadata": {},
   "source": [
    "##### Step 4-2: Create a series of three if statements to determine if the member’s total portfolio is large enough to fund the emergency portfolio:\n",
    "\n",
    "* If the total portfolio value is greater than the emergency fund value, display a message congratulating the member for having enough money in this fund.\n",
    "\n",
    "* Else if the total portfolio value is equal to the emergency fund value, display a message congratulating the member on reaching this important financial goal.\n",
    "\n",
    "* Else the total portfolio is less than the emergency fund value, so display a message showing how many dollars away the member is from reaching the goal. (Subtract the total portfolio value from the emergency fund value.)"
   ]
  },
  {
   "cell_type": "code",
   "execution_count": 35,
   "metadata": {},
   "outputs": [
    {
     "name": "stdout",
     "output_type": "stream",
     "text": [
      "congratulating for having enough money in this fund\n"
     ]
    }
   ],
   "source": [
    "# Evaluate the possibility of creating an emergency fund with 3 conditions:\n",
    "if total_portfolio_sum > emergency_fund_value:\n",
    "    print(\"congratulating for having enough money in this fund\")\n",
    "elif total_portfolio_sum == emergency_fund_value:\n",
    "    print(\"congratulating on reaching this important financial goal\")\n",
    "else:\n",
    "    print(total_portfolio_sum - emergency_fund_value)\n",
    "    \n"
   ]
  },
  {
   "cell_type": "markdown",
   "metadata": {},
   "source": [
    "## Part 2: Create a Financial Planner for Retirement"
   ]
  },
  {
   "cell_type": "markdown",
   "metadata": {},
   "source": [
    "### Create the Monte Carlo Simulation\n",
    "\n",
    "In this section, you’ll use the MCForecastTools library to create a Monte Carlo simulation for the member’s savings portfolio. To do this, complete the following steps:\n",
    "\n",
    "1. Make an API call via the Alpaca SDK to get 3 years of historical closing prices for a traditional 60/40 portfolio split: 60% stocks (SPY) and 40% bonds (AGG).\n",
    "\n",
    "2. Run a Monte Carlo simulation of 500 samples and 30 years for the 60/40 portfolio, and then plot the results.The following image shows the overlay line plot resulting from a simulation with these characteristics. However, because a random number generator is used to run each live Monte Carlo simulation, your image will differ slightly from this exact image:\n",
    "\n",
    "![A screenshot depicts the resulting plot.](Images/5-4-monte-carlo-line-plot.png)\n",
    "\n",
    "3. Plot the probability distribution of the Monte Carlo simulation. Plot the probability distribution of the Monte Carlo simulation. The following image shows the histogram plot resulting from a simulation with these characteristics. However, because a random number generator is used to run each live Monte Carlo simulation, your image will differ slightly from this exact image:\n",
    "\n",
    "![A screenshot depicts the histogram plot.](Images/5-4-monte-carlo-histogram.png)\n",
    "\n",
    "4. Generate the summary statistics for the Monte Carlo simulation.\n",
    "\n"
   ]
  },
  {
   "cell_type": "markdown",
   "metadata": {},
   "source": [
    "#### Step 1: Make an API call via the Alpaca SDK to get 3 years of historical closing prices for a traditional 60/40 portfolio split: 60% stocks (SPY) and 40% bonds (AGG)."
   ]
  },
  {
   "cell_type": "code",
   "execution_count": 36,
   "metadata": {},
   "outputs": [],
   "source": [
    "# Set start and end dates of 3 years back from your current date\n",
    "# Alternatively, you can use an end date of 2020-08-07 and work 3 years back from that date \n",
    "start_date = pd.Timestamp(\"2017-08-07\", tz=\"America/New_York\").isoformat()\n",
    "end_date = pd.Timestamp(\"2020-08-07\", tz=\"America/New_York\").isoformat()"
   ]
  },
  {
   "cell_type": "code",
   "execution_count": 37,
   "metadata": {},
   "outputs": [
    {
     "data": {
      "text/html": [
       "<div>\n",
       "<style scoped>\n",
       "    .dataframe tbody tr th:only-of-type {\n",
       "        vertical-align: middle;\n",
       "    }\n",
       "\n",
       "    .dataframe tbody tr th {\n",
       "        vertical-align: top;\n",
       "    }\n",
       "\n",
       "    .dataframe thead tr th {\n",
       "        text-align: left;\n",
       "    }\n",
       "\n",
       "    .dataframe thead tr:last-of-type th {\n",
       "        text-align: right;\n",
       "    }\n",
       "</style>\n",
       "<table border=\"1\" class=\"dataframe\">\n",
       "  <thead>\n",
       "    <tr>\n",
       "      <th></th>\n",
       "      <th colspan=\"7\" halign=\"left\">SPY</th>\n",
       "      <th colspan=\"7\" halign=\"left\">AGG</th>\n",
       "    </tr>\n",
       "    <tr>\n",
       "      <th></th>\n",
       "      <th>open</th>\n",
       "      <th>high</th>\n",
       "      <th>low</th>\n",
       "      <th>close</th>\n",
       "      <th>volume</th>\n",
       "      <th>trade_count</th>\n",
       "      <th>vwap</th>\n",
       "      <th>open</th>\n",
       "      <th>high</th>\n",
       "      <th>low</th>\n",
       "      <th>close</th>\n",
       "      <th>volume</th>\n",
       "      <th>trade_count</th>\n",
       "      <th>vwap</th>\n",
       "    </tr>\n",
       "    <tr>\n",
       "      <th>timestamp</th>\n",
       "      <th></th>\n",
       "      <th></th>\n",
       "      <th></th>\n",
       "      <th></th>\n",
       "      <th></th>\n",
       "      <th></th>\n",
       "      <th></th>\n",
       "      <th></th>\n",
       "      <th></th>\n",
       "      <th></th>\n",
       "      <th></th>\n",
       "      <th></th>\n",
       "      <th></th>\n",
       "      <th></th>\n",
       "    </tr>\n",
       "  </thead>\n",
       "  <tbody>\n",
       "    <tr>\n",
       "      <th>2017-08-07 04:00:00+00:00</th>\n",
       "      <td>247.49</td>\n",
       "      <td>247.870</td>\n",
       "      <td>247.37</td>\n",
       "      <td>247.8400</td>\n",
       "      <td>31995021</td>\n",
       "      <td>100111</td>\n",
       "      <td>247.668698</td>\n",
       "      <td>109.69</td>\n",
       "      <td>109.7200</td>\n",
       "      <td>109.6066</td>\n",
       "      <td>109.685</td>\n",
       "      <td>2359826</td>\n",
       "      <td>7755</td>\n",
       "      <td>109.674876</td>\n",
       "    </tr>\n",
       "    <tr>\n",
       "      <th>2017-08-08 04:00:00+00:00</th>\n",
       "      <td>247.51</td>\n",
       "      <td>248.910</td>\n",
       "      <td>246.83</td>\n",
       "      <td>247.2700</td>\n",
       "      <td>61719353</td>\n",
       "      <td>192921</td>\n",
       "      <td>247.739709</td>\n",
       "      <td>109.67</td>\n",
       "      <td>109.6900</td>\n",
       "      <td>109.5000</td>\n",
       "      <td>109.580</td>\n",
       "      <td>2570876</td>\n",
       "      <td>12663</td>\n",
       "      <td>109.577636</td>\n",
       "    </tr>\n",
       "    <tr>\n",
       "      <th>2017-08-09 04:00:00+00:00</th>\n",
       "      <td>246.47</td>\n",
       "      <td>247.310</td>\n",
       "      <td>246.06</td>\n",
       "      <td>247.2700</td>\n",
       "      <td>62632619</td>\n",
       "      <td>223650</td>\n",
       "      <td>246.791421</td>\n",
       "      <td>109.87</td>\n",
       "      <td>109.8700</td>\n",
       "      <td>109.6600</td>\n",
       "      <td>109.670</td>\n",
       "      <td>2308932</td>\n",
       "      <td>11031</td>\n",
       "      <td>109.771749</td>\n",
       "    </tr>\n",
       "    <tr>\n",
       "      <th>2017-08-10 04:00:00+00:00</th>\n",
       "      <td>246.29</td>\n",
       "      <td>246.440</td>\n",
       "      <td>243.70</td>\n",
       "      <td>243.7599</td>\n",
       "      <td>120418270</td>\n",
       "      <td>424321</td>\n",
       "      <td>245.027847</td>\n",
       "      <td>109.70</td>\n",
       "      <td>109.8500</td>\n",
       "      <td>109.6700</td>\n",
       "      <td>109.800</td>\n",
       "      <td>2004163</td>\n",
       "      <td>12437</td>\n",
       "      <td>109.776611</td>\n",
       "    </tr>\n",
       "    <tr>\n",
       "      <th>2017-08-11 04:00:00+00:00</th>\n",
       "      <td>244.02</td>\n",
       "      <td>244.800</td>\n",
       "      <td>243.75</td>\n",
       "      <td>244.1100</td>\n",
       "      <td>74869947</td>\n",
       "      <td>278786</td>\n",
       "      <td>244.222867</td>\n",
       "      <td>109.75</td>\n",
       "      <td>109.9400</td>\n",
       "      <td>109.6800</td>\n",
       "      <td>109.870</td>\n",
       "      <td>1913253</td>\n",
       "      <td>10113</td>\n",
       "      <td>109.860974</td>\n",
       "    </tr>\n",
       "    <tr>\n",
       "      <th>2017-08-14 04:00:00+00:00</th>\n",
       "      <td>245.59</td>\n",
       "      <td>246.790</td>\n",
       "      <td>245.55</td>\n",
       "      <td>246.5000</td>\n",
       "      <td>73291919</td>\n",
       "      <td>227671</td>\n",
       "      <td>246.332178</td>\n",
       "      <td>109.84</td>\n",
       "      <td>109.8969</td>\n",
       "      <td>109.7400</td>\n",
       "      <td>109.800</td>\n",
       "      <td>2294261</td>\n",
       "      <td>10792</td>\n",
       "      <td>109.825015</td>\n",
       "    </tr>\n",
       "    <tr>\n",
       "      <th>2017-08-15 04:00:00+00:00</th>\n",
       "      <td>246.98</td>\n",
       "      <td>247.000</td>\n",
       "      <td>246.16</td>\n",
       "      <td>246.5300</td>\n",
       "      <td>55242746</td>\n",
       "      <td>177920</td>\n",
       "      <td>246.593306</td>\n",
       "      <td>109.56</td>\n",
       "      <td>109.7150</td>\n",
       "      <td>109.5600</td>\n",
       "      <td>109.660</td>\n",
       "      <td>2177420</td>\n",
       "      <td>8298</td>\n",
       "      <td>109.654240</td>\n",
       "    </tr>\n",
       "    <tr>\n",
       "      <th>2017-08-16 04:00:00+00:00</th>\n",
       "      <td>247.11</td>\n",
       "      <td>247.570</td>\n",
       "      <td>246.45</td>\n",
       "      <td>246.9600</td>\n",
       "      <td>56715544</td>\n",
       "      <td>212681</td>\n",
       "      <td>247.016600</td>\n",
       "      <td>109.54</td>\n",
       "      <td>109.9300</td>\n",
       "      <td>109.5400</td>\n",
       "      <td>109.860</td>\n",
       "      <td>1956479</td>\n",
       "      <td>9864</td>\n",
       "      <td>109.770591</td>\n",
       "    </tr>\n",
       "    <tr>\n",
       "      <th>2017-08-17 04:00:00+00:00</th>\n",
       "      <td>246.24</td>\n",
       "      <td>246.600</td>\n",
       "      <td>243.09</td>\n",
       "      <td>243.1400</td>\n",
       "      <td>128100396</td>\n",
       "      <td>428148</td>\n",
       "      <td>244.766670</td>\n",
       "      <td>109.83</td>\n",
       "      <td>110.0200</td>\n",
       "      <td>109.7800</td>\n",
       "      <td>110.020</td>\n",
       "      <td>5403527</td>\n",
       "      <td>10956</td>\n",
       "      <td>109.943594</td>\n",
       "    </tr>\n",
       "    <tr>\n",
       "      <th>2017-08-18 04:00:00+00:00</th>\n",
       "      <td>242.90</td>\n",
       "      <td>244.189</td>\n",
       "      <td>242.20</td>\n",
       "      <td>242.7100</td>\n",
       "      <td>136747986</td>\n",
       "      <td>389140</td>\n",
       "      <td>243.019365</td>\n",
       "      <td>110.05</td>\n",
       "      <td>110.1400</td>\n",
       "      <td>109.8900</td>\n",
       "      <td>109.950</td>\n",
       "      <td>1564794</td>\n",
       "      <td>7827</td>\n",
       "      <td>109.993232</td>\n",
       "    </tr>\n",
       "  </tbody>\n",
       "</table>\n",
       "</div>"
      ],
      "text/plain": [
       "                              SPY                                        \\\n",
       "                             open     high     low     close     volume   \n",
       "timestamp                                                                 \n",
       "2017-08-07 04:00:00+00:00  247.49  247.870  247.37  247.8400   31995021   \n",
       "2017-08-08 04:00:00+00:00  247.51  248.910  246.83  247.2700   61719353   \n",
       "2017-08-09 04:00:00+00:00  246.47  247.310  246.06  247.2700   62632619   \n",
       "2017-08-10 04:00:00+00:00  246.29  246.440  243.70  243.7599  120418270   \n",
       "2017-08-11 04:00:00+00:00  244.02  244.800  243.75  244.1100   74869947   \n",
       "2017-08-14 04:00:00+00:00  245.59  246.790  245.55  246.5000   73291919   \n",
       "2017-08-15 04:00:00+00:00  246.98  247.000  246.16  246.5300   55242746   \n",
       "2017-08-16 04:00:00+00:00  247.11  247.570  246.45  246.9600   56715544   \n",
       "2017-08-17 04:00:00+00:00  246.24  246.600  243.09  243.1400  128100396   \n",
       "2017-08-18 04:00:00+00:00  242.90  244.189  242.20  242.7100  136747986   \n",
       "\n",
       "                                                      AGG                      \\\n",
       "                          trade_count        vwap    open      high       low   \n",
       "timestamp                                                                       \n",
       "2017-08-07 04:00:00+00:00      100111  247.668698  109.69  109.7200  109.6066   \n",
       "2017-08-08 04:00:00+00:00      192921  247.739709  109.67  109.6900  109.5000   \n",
       "2017-08-09 04:00:00+00:00      223650  246.791421  109.87  109.8700  109.6600   \n",
       "2017-08-10 04:00:00+00:00      424321  245.027847  109.70  109.8500  109.6700   \n",
       "2017-08-11 04:00:00+00:00      278786  244.222867  109.75  109.9400  109.6800   \n",
       "2017-08-14 04:00:00+00:00      227671  246.332178  109.84  109.8969  109.7400   \n",
       "2017-08-15 04:00:00+00:00      177920  246.593306  109.56  109.7150  109.5600   \n",
       "2017-08-16 04:00:00+00:00      212681  247.016600  109.54  109.9300  109.5400   \n",
       "2017-08-17 04:00:00+00:00      428148  244.766670  109.83  110.0200  109.7800   \n",
       "2017-08-18 04:00:00+00:00      389140  243.019365  110.05  110.1400  109.8900   \n",
       "\n",
       "                                                                     \n",
       "                             close   volume trade_count        vwap  \n",
       "timestamp                                                            \n",
       "2017-08-07 04:00:00+00:00  109.685  2359826        7755  109.674876  \n",
       "2017-08-08 04:00:00+00:00  109.580  2570876       12663  109.577636  \n",
       "2017-08-09 04:00:00+00:00  109.670  2308932       11031  109.771749  \n",
       "2017-08-10 04:00:00+00:00  109.800  2004163       12437  109.776611  \n",
       "2017-08-11 04:00:00+00:00  109.870  1913253       10113  109.860974  \n",
       "2017-08-14 04:00:00+00:00  109.800  2294261       10792  109.825015  \n",
       "2017-08-15 04:00:00+00:00  109.660  2177420        8298  109.654240  \n",
       "2017-08-16 04:00:00+00:00  109.860  1956479        9864  109.770591  \n",
       "2017-08-17 04:00:00+00:00  110.020  5403527       10956  109.943594  \n",
       "2017-08-18 04:00:00+00:00  109.950  1564794        7827  109.993232  "
      ]
     },
     "execution_count": 37,
     "metadata": {},
     "output_type": "execute_result"
    }
   ],
   "source": [
    "# Use the Alpaca get_bars function to make the API call to get the 3 years worth of pricing data\n",
    "# The tickers and timeframe parameters should have been set in Part 1 of this activity \n",
    "# The start and end dates should be updated with the information set above\n",
    "# Remember to add the df property to the end of the call so the response is returned as a DataFrame\n",
    "alpaca_api_key = os.getenv(\"ALPACA_API_KEY\")\n",
    "alpaca_secret_key = os.getenv(\"ALPACA_SECRET_KEY\")\n",
    "\n",
    "# Create the Alpaca tradeapi.REST object\n",
    "alpaca = tradeapi.REST(\n",
    "    alpaca_api_key,\n",
    "    alpaca_secret_key,\n",
    "    api_version=\"v2\")\n",
    "\n",
    "# Reorganize the DataFrame\n",
    "# Separate ticker data\n",
    "df_stock_data = alpaca.get_bars(\n",
    "     ticker,\n",
    "     timeframe,\n",
    "     start=start_date,\n",
    "     end=end_date\n",
    ").df\n",
    "\n",
    "# Reorganize the DataFrame\n",
    "# Separate ticker data\n",
    "SPY = df_stock_data[df_stock_data['symbol']=='SPY'].drop('symbol', axis=1)\n",
    "AGG = df_stock_data[df_stock_data['symbol']=='AGG'].drop('symbol', axis=1)\n",
    "\n",
    "# Concatenate the ticker DataFrames\n",
    "df_stock_data = pd.concat([SPY,AGG], axis=1, keys=[\"SPY\",\"AGG\"])\n",
    "\n",
    "# Review the first 5 rows of the Alpaca DataFrame\n",
    "df_stock_data.head(10)\n",
    "\n",
    "# Display both the first and last five rows of the DataFrame\n"
   ]
  },
  {
   "cell_type": "code",
   "execution_count": 63,
   "metadata": {},
   "outputs": [
    {
     "data": {
      "text/html": [
       "<div>\n",
       "<style scoped>\n",
       "    .dataframe tbody tr th:only-of-type {\n",
       "        vertical-align: middle;\n",
       "    }\n",
       "\n",
       "    .dataframe tbody tr th {\n",
       "        vertical-align: top;\n",
       "    }\n",
       "\n",
       "    .dataframe thead tr th {\n",
       "        text-align: left;\n",
       "    }\n",
       "\n",
       "    .dataframe thead tr:last-of-type th {\n",
       "        text-align: right;\n",
       "    }\n",
       "</style>\n",
       "<table border=\"1\" class=\"dataframe\">\n",
       "  <thead>\n",
       "    <tr>\n",
       "      <th></th>\n",
       "      <th colspan=\"7\" halign=\"left\">SPY</th>\n",
       "      <th colspan=\"7\" halign=\"left\">AGG</th>\n",
       "    </tr>\n",
       "    <tr>\n",
       "      <th></th>\n",
       "      <th>open</th>\n",
       "      <th>high</th>\n",
       "      <th>low</th>\n",
       "      <th>close</th>\n",
       "      <th>volume</th>\n",
       "      <th>trade_count</th>\n",
       "      <th>vwap</th>\n",
       "      <th>open</th>\n",
       "      <th>high</th>\n",
       "      <th>low</th>\n",
       "      <th>close</th>\n",
       "      <th>volume</th>\n",
       "      <th>trade_count</th>\n",
       "      <th>vwap</th>\n",
       "    </tr>\n",
       "    <tr>\n",
       "      <th>timestamp</th>\n",
       "      <th></th>\n",
       "      <th></th>\n",
       "      <th></th>\n",
       "      <th></th>\n",
       "      <th></th>\n",
       "      <th></th>\n",
       "      <th></th>\n",
       "      <th></th>\n",
       "      <th></th>\n",
       "      <th></th>\n",
       "      <th></th>\n",
       "      <th></th>\n",
       "      <th></th>\n",
       "      <th></th>\n",
       "    </tr>\n",
       "  </thead>\n",
       "  <tbody>\n",
       "    <tr>\n",
       "      <th>2020-07-27 04:00:00+00:00</th>\n",
       "      <td>321.6200</td>\n",
       "      <td>323.41</td>\n",
       "      <td>320.775</td>\n",
       "      <td>323.27</td>\n",
       "      <td>48292970</td>\n",
       "      <td>260953</td>\n",
       "      <td>322.383340</td>\n",
       "      <td>119.40</td>\n",
       "      <td>119.4200</td>\n",
       "      <td>119.1500</td>\n",
       "      <td>119.20</td>\n",
       "      <td>5606050</td>\n",
       "      <td>22295</td>\n",
       "      <td>119.248850</td>\n",
       "    </tr>\n",
       "    <tr>\n",
       "      <th>2020-07-28 04:00:00+00:00</th>\n",
       "      <td>322.4300</td>\n",
       "      <td>323.64</td>\n",
       "      <td>320.850</td>\n",
       "      <td>321.30</td>\n",
       "      <td>57494979</td>\n",
       "      <td>288274</td>\n",
       "      <td>322.444643</td>\n",
       "      <td>119.30</td>\n",
       "      <td>119.3500</td>\n",
       "      <td>119.2200</td>\n",
       "      <td>119.28</td>\n",
       "      <td>6080801</td>\n",
       "      <td>18859</td>\n",
       "      <td>119.272957</td>\n",
       "    </tr>\n",
       "    <tr>\n",
       "      <th>2020-07-29 04:00:00+00:00</th>\n",
       "      <td>322.1200</td>\n",
       "      <td>325.73</td>\n",
       "      <td>322.075</td>\n",
       "      <td>325.01</td>\n",
       "      <td>48454159</td>\n",
       "      <td>275881</td>\n",
       "      <td>323.937307</td>\n",
       "      <td>119.30</td>\n",
       "      <td>119.4299</td>\n",
       "      <td>119.2400</td>\n",
       "      <td>119.42</td>\n",
       "      <td>9727968</td>\n",
       "      <td>16017</td>\n",
       "      <td>119.357502</td>\n",
       "    </tr>\n",
       "    <tr>\n",
       "      <th>2020-07-30 04:00:00+00:00</th>\n",
       "      <td>321.9000</td>\n",
       "      <td>324.41</td>\n",
       "      <td>319.640</td>\n",
       "      <td>323.98</td>\n",
       "      <td>61861788</td>\n",
       "      <td>397283</td>\n",
       "      <td>322.845066</td>\n",
       "      <td>119.51</td>\n",
       "      <td>119.5400</td>\n",
       "      <td>119.4533</td>\n",
       "      <td>119.51</td>\n",
       "      <td>3052829</td>\n",
       "      <td>10214</td>\n",
       "      <td>119.499566</td>\n",
       "    </tr>\n",
       "    <tr>\n",
       "      <th>2020-07-31 04:00:00+00:00</th>\n",
       "      <td>325.9000</td>\n",
       "      <td>326.63</td>\n",
       "      <td>321.330</td>\n",
       "      <td>326.40</td>\n",
       "      <td>85211555</td>\n",
       "      <td>448876</td>\n",
       "      <td>324.494578</td>\n",
       "      <td>119.45</td>\n",
       "      <td>119.6300</td>\n",
       "      <td>119.4000</td>\n",
       "      <td>119.56</td>\n",
       "      <td>5277863</td>\n",
       "      <td>17620</td>\n",
       "      <td>119.525664</td>\n",
       "    </tr>\n",
       "    <tr>\n",
       "      <th>2020-08-03 04:00:00+00:00</th>\n",
       "      <td>328.3200</td>\n",
       "      <td>329.62</td>\n",
       "      <td>327.730</td>\n",
       "      <td>328.67</td>\n",
       "      <td>53078112</td>\n",
       "      <td>288003</td>\n",
       "      <td>328.658795</td>\n",
       "      <td>119.37</td>\n",
       "      <td>119.4000</td>\n",
       "      <td>119.1903</td>\n",
       "      <td>119.40</td>\n",
       "      <td>13014535</td>\n",
       "      <td>36359</td>\n",
       "      <td>119.282420</td>\n",
       "    </tr>\n",
       "    <tr>\n",
       "      <th>2020-08-04 04:00:00+00:00</th>\n",
       "      <td>327.8600</td>\n",
       "      <td>330.06</td>\n",
       "      <td>327.860</td>\n",
       "      <td>330.00</td>\n",
       "      <td>41917896</td>\n",
       "      <td>250899</td>\n",
       "      <td>329.057592</td>\n",
       "      <td>119.42</td>\n",
       "      <td>119.6300</td>\n",
       "      <td>119.4200</td>\n",
       "      <td>119.63</td>\n",
       "      <td>10935154</td>\n",
       "      <td>39113</td>\n",
       "      <td>119.541666</td>\n",
       "    </tr>\n",
       "    <tr>\n",
       "      <th>2020-08-05 04:00:00+00:00</th>\n",
       "      <td>331.4700</td>\n",
       "      <td>332.39</td>\n",
       "      <td>331.180</td>\n",
       "      <td>332.03</td>\n",
       "      <td>42870955</td>\n",
       "      <td>241416</td>\n",
       "      <td>331.791643</td>\n",
       "      <td>119.39</td>\n",
       "      <td>119.4900</td>\n",
       "      <td>119.3100</td>\n",
       "      <td>119.40</td>\n",
       "      <td>17377874</td>\n",
       "      <td>42313</td>\n",
       "      <td>119.387245</td>\n",
       "    </tr>\n",
       "    <tr>\n",
       "      <th>2020-08-06 04:00:00+00:00</th>\n",
       "      <td>331.4799</td>\n",
       "      <td>334.46</td>\n",
       "      <td>331.130</td>\n",
       "      <td>334.32</td>\n",
       "      <td>43679448</td>\n",
       "      <td>290036</td>\n",
       "      <td>332.939600</td>\n",
       "      <td>119.62</td>\n",
       "      <td>119.7300</td>\n",
       "      <td>119.5300</td>\n",
       "      <td>119.57</td>\n",
       "      <td>4608710</td>\n",
       "      <td>15938</td>\n",
       "      <td>119.604199</td>\n",
       "    </tr>\n",
       "    <tr>\n",
       "      <th>2020-08-07 04:00:00+00:00</th>\n",
       "      <td>333.2800</td>\n",
       "      <td>334.88</td>\n",
       "      <td>332.300</td>\n",
       "      <td>334.57</td>\n",
       "      <td>57282821</td>\n",
       "      <td>350100</td>\n",
       "      <td>333.800372</td>\n",
       "      <td>119.66</td>\n",
       "      <td>119.7300</td>\n",
       "      <td>119.3950</td>\n",
       "      <td>119.43</td>\n",
       "      <td>5559066</td>\n",
       "      <td>15246</td>\n",
       "      <td>119.475306</td>\n",
       "    </tr>\n",
       "  </tbody>\n",
       "</table>\n",
       "</div>"
      ],
      "text/plain": [
       "                                SPY                                     \\\n",
       "                               open    high      low   close    volume   \n",
       "timestamp                                                                \n",
       "2020-07-27 04:00:00+00:00  321.6200  323.41  320.775  323.27  48292970   \n",
       "2020-07-28 04:00:00+00:00  322.4300  323.64  320.850  321.30  57494979   \n",
       "2020-07-29 04:00:00+00:00  322.1200  325.73  322.075  325.01  48454159   \n",
       "2020-07-30 04:00:00+00:00  321.9000  324.41  319.640  323.98  61861788   \n",
       "2020-07-31 04:00:00+00:00  325.9000  326.63  321.330  326.40  85211555   \n",
       "2020-08-03 04:00:00+00:00  328.3200  329.62  327.730  328.67  53078112   \n",
       "2020-08-04 04:00:00+00:00  327.8600  330.06  327.860  330.00  41917896   \n",
       "2020-08-05 04:00:00+00:00  331.4700  332.39  331.180  332.03  42870955   \n",
       "2020-08-06 04:00:00+00:00  331.4799  334.46  331.130  334.32  43679448   \n",
       "2020-08-07 04:00:00+00:00  333.2800  334.88  332.300  334.57  57282821   \n",
       "\n",
       "                                                      AGG                      \\\n",
       "                          trade_count        vwap    open      high       low   \n",
       "timestamp                                                                       \n",
       "2020-07-27 04:00:00+00:00      260953  322.383340  119.40  119.4200  119.1500   \n",
       "2020-07-28 04:00:00+00:00      288274  322.444643  119.30  119.3500  119.2200   \n",
       "2020-07-29 04:00:00+00:00      275881  323.937307  119.30  119.4299  119.2400   \n",
       "2020-07-30 04:00:00+00:00      397283  322.845066  119.51  119.5400  119.4533   \n",
       "2020-07-31 04:00:00+00:00      448876  324.494578  119.45  119.6300  119.4000   \n",
       "2020-08-03 04:00:00+00:00      288003  328.658795  119.37  119.4000  119.1903   \n",
       "2020-08-04 04:00:00+00:00      250899  329.057592  119.42  119.6300  119.4200   \n",
       "2020-08-05 04:00:00+00:00      241416  331.791643  119.39  119.4900  119.3100   \n",
       "2020-08-06 04:00:00+00:00      290036  332.939600  119.62  119.7300  119.5300   \n",
       "2020-08-07 04:00:00+00:00      350100  333.800372  119.66  119.7300  119.3950   \n",
       "\n",
       "                                                                     \n",
       "                            close    volume trade_count        vwap  \n",
       "timestamp                                                            \n",
       "2020-07-27 04:00:00+00:00  119.20   5606050       22295  119.248850  \n",
       "2020-07-28 04:00:00+00:00  119.28   6080801       18859  119.272957  \n",
       "2020-07-29 04:00:00+00:00  119.42   9727968       16017  119.357502  \n",
       "2020-07-30 04:00:00+00:00  119.51   3052829       10214  119.499566  \n",
       "2020-07-31 04:00:00+00:00  119.56   5277863       17620  119.525664  \n",
       "2020-08-03 04:00:00+00:00  119.40  13014535       36359  119.282420  \n",
       "2020-08-04 04:00:00+00:00  119.63  10935154       39113  119.541666  \n",
       "2020-08-05 04:00:00+00:00  119.40  17377874       42313  119.387245  \n",
       "2020-08-06 04:00:00+00:00  119.57   4608710       15938  119.604199  \n",
       "2020-08-07 04:00:00+00:00  119.43   5559066       15246  119.475306  "
      ]
     },
     "execution_count": 63,
     "metadata": {},
     "output_type": "execute_result"
    }
   ],
   "source": [
    "# Display both the first and last five rows of the DataFrame\n",
    "df_stock_data.tail(10)"
   ]
  },
  {
   "cell_type": "markdown",
   "metadata": {},
   "source": [
    "#### Step 2: Run a Monte Carlo simulation of 500 samples and 30 years for the 60/40 portfolio, and then plot the results."
   ]
  },
  {
   "cell_type": "code",
   "execution_count": 38,
   "metadata": {},
   "outputs": [
    {
     "data": {
      "text/plain": [
       "<MCForecastTools.MCSimulation at 0x29a9c917c70>"
      ]
     },
     "metadata": {},
     "output_type": "display_data"
    }
   ],
   "source": [
    "# Configure the Monte Carlo simulation to forecast 30 years cumulative returns\n",
    "# The weights should be split 40% to AGG and 60% to SPY.\n",
    "MC_30yrs = MCSimulation(\n",
    "    portfolio_data = df_stock_data,\n",
    "    weights=[.60,.40],\n",
    "    num_simulation=500, \n",
    "    num_trading_days=252*30)\n",
    "\n",
    "\n",
    "# Review the simulation input data\n",
    "display(MC_30yrs)"
   ]
  },
  {
   "cell_type": "code",
   "execution_count": 64,
   "metadata": {},
   "outputs": [
    {
     "data": {
      "text/html": [
       "<div>\n",
       "<style scoped>\n",
       "    .dataframe tbody tr th:only-of-type {\n",
       "        vertical-align: middle;\n",
       "    }\n",
       "\n",
       "    .dataframe tbody tr th {\n",
       "        vertical-align: top;\n",
       "    }\n",
       "\n",
       "    .dataframe thead tr th {\n",
       "        text-align: left;\n",
       "    }\n",
       "\n",
       "    .dataframe thead tr:last-of-type th {\n",
       "        text-align: right;\n",
       "    }\n",
       "</style>\n",
       "<table border=\"1\" class=\"dataframe\">\n",
       "  <thead>\n",
       "    <tr>\n",
       "      <th></th>\n",
       "      <th colspan=\"8\" halign=\"left\">SPY</th>\n",
       "      <th colspan=\"8\" halign=\"left\">AGG</th>\n",
       "    </tr>\n",
       "    <tr>\n",
       "      <th></th>\n",
       "      <th>open</th>\n",
       "      <th>high</th>\n",
       "      <th>low</th>\n",
       "      <th>close</th>\n",
       "      <th>volume</th>\n",
       "      <th>trade_count</th>\n",
       "      <th>vwap</th>\n",
       "      <th>daily_return</th>\n",
       "      <th>open</th>\n",
       "      <th>high</th>\n",
       "      <th>low</th>\n",
       "      <th>close</th>\n",
       "      <th>volume</th>\n",
       "      <th>trade_count</th>\n",
       "      <th>vwap</th>\n",
       "      <th>daily_return</th>\n",
       "    </tr>\n",
       "    <tr>\n",
       "      <th>timestamp</th>\n",
       "      <th></th>\n",
       "      <th></th>\n",
       "      <th></th>\n",
       "      <th></th>\n",
       "      <th></th>\n",
       "      <th></th>\n",
       "      <th></th>\n",
       "      <th></th>\n",
       "      <th></th>\n",
       "      <th></th>\n",
       "      <th></th>\n",
       "      <th></th>\n",
       "      <th></th>\n",
       "      <th></th>\n",
       "      <th></th>\n",
       "      <th></th>\n",
       "    </tr>\n",
       "  </thead>\n",
       "  <tbody>\n",
       "    <tr>\n",
       "      <th>2017-08-07 04:00:00+00:00</th>\n",
       "      <td>247.49</td>\n",
       "      <td>247.87</td>\n",
       "      <td>247.37</td>\n",
       "      <td>247.8400</td>\n",
       "      <td>31995021</td>\n",
       "      <td>100111</td>\n",
       "      <td>247.668698</td>\n",
       "      <td>NaN</td>\n",
       "      <td>109.69</td>\n",
       "      <td>109.72</td>\n",
       "      <td>109.6066</td>\n",
       "      <td>109.685</td>\n",
       "      <td>2359826</td>\n",
       "      <td>7755</td>\n",
       "      <td>109.674876</td>\n",
       "      <td>NaN</td>\n",
       "    </tr>\n",
       "    <tr>\n",
       "      <th>2017-08-08 04:00:00+00:00</th>\n",
       "      <td>247.51</td>\n",
       "      <td>248.91</td>\n",
       "      <td>246.83</td>\n",
       "      <td>247.2700</td>\n",
       "      <td>61719353</td>\n",
       "      <td>192921</td>\n",
       "      <td>247.739709</td>\n",
       "      <td>-0.002300</td>\n",
       "      <td>109.67</td>\n",
       "      <td>109.69</td>\n",
       "      <td>109.5000</td>\n",
       "      <td>109.580</td>\n",
       "      <td>2570876</td>\n",
       "      <td>12663</td>\n",
       "      <td>109.577636</td>\n",
       "      <td>-0.000957</td>\n",
       "    </tr>\n",
       "    <tr>\n",
       "      <th>2017-08-09 04:00:00+00:00</th>\n",
       "      <td>246.47</td>\n",
       "      <td>247.31</td>\n",
       "      <td>246.06</td>\n",
       "      <td>247.2700</td>\n",
       "      <td>62632619</td>\n",
       "      <td>223650</td>\n",
       "      <td>246.791421</td>\n",
       "      <td>0.000000</td>\n",
       "      <td>109.87</td>\n",
       "      <td>109.87</td>\n",
       "      <td>109.6600</td>\n",
       "      <td>109.670</td>\n",
       "      <td>2308932</td>\n",
       "      <td>11031</td>\n",
       "      <td>109.771749</td>\n",
       "      <td>0.000821</td>\n",
       "    </tr>\n",
       "    <tr>\n",
       "      <th>2017-08-10 04:00:00+00:00</th>\n",
       "      <td>246.29</td>\n",
       "      <td>246.44</td>\n",
       "      <td>243.70</td>\n",
       "      <td>243.7599</td>\n",
       "      <td>120418270</td>\n",
       "      <td>424321</td>\n",
       "      <td>245.027847</td>\n",
       "      <td>-0.014195</td>\n",
       "      <td>109.70</td>\n",
       "      <td>109.85</td>\n",
       "      <td>109.6700</td>\n",
       "      <td>109.800</td>\n",
       "      <td>2004163</td>\n",
       "      <td>12437</td>\n",
       "      <td>109.776611</td>\n",
       "      <td>0.001185</td>\n",
       "    </tr>\n",
       "    <tr>\n",
       "      <th>2017-08-11 04:00:00+00:00</th>\n",
       "      <td>244.02</td>\n",
       "      <td>244.80</td>\n",
       "      <td>243.75</td>\n",
       "      <td>244.1100</td>\n",
       "      <td>74869947</td>\n",
       "      <td>278786</td>\n",
       "      <td>244.222867</td>\n",
       "      <td>0.001436</td>\n",
       "      <td>109.75</td>\n",
       "      <td>109.94</td>\n",
       "      <td>109.6800</td>\n",
       "      <td>109.870</td>\n",
       "      <td>1913253</td>\n",
       "      <td>10113</td>\n",
       "      <td>109.860974</td>\n",
       "      <td>0.000638</td>\n",
       "    </tr>\n",
       "  </tbody>\n",
       "</table>\n",
       "</div>"
      ],
      "text/plain": [
       "                              SPY                                       \\\n",
       "                             open    high     low     close     volume   \n",
       "timestamp                                                                \n",
       "2017-08-07 04:00:00+00:00  247.49  247.87  247.37  247.8400   31995021   \n",
       "2017-08-08 04:00:00+00:00  247.51  248.91  246.83  247.2700   61719353   \n",
       "2017-08-09 04:00:00+00:00  246.47  247.31  246.06  247.2700   62632619   \n",
       "2017-08-10 04:00:00+00:00  246.29  246.44  243.70  243.7599  120418270   \n",
       "2017-08-11 04:00:00+00:00  244.02  244.80  243.75  244.1100   74869947   \n",
       "\n",
       "                                                                   AGG  \\\n",
       "                          trade_count        vwap daily_return    open   \n",
       "timestamp                                                                \n",
       "2017-08-07 04:00:00+00:00      100111  247.668698          NaN  109.69   \n",
       "2017-08-08 04:00:00+00:00      192921  247.739709    -0.002300  109.67   \n",
       "2017-08-09 04:00:00+00:00      223650  246.791421     0.000000  109.87   \n",
       "2017-08-10 04:00:00+00:00      424321  245.027847    -0.014195  109.70   \n",
       "2017-08-11 04:00:00+00:00      278786  244.222867     0.001436  109.75   \n",
       "\n",
       "                                                                           \\\n",
       "                             high       low    close   volume trade_count   \n",
       "timestamp                                                                   \n",
       "2017-08-07 04:00:00+00:00  109.72  109.6066  109.685  2359826        7755   \n",
       "2017-08-08 04:00:00+00:00  109.69  109.5000  109.580  2570876       12663   \n",
       "2017-08-09 04:00:00+00:00  109.87  109.6600  109.670  2308932       11031   \n",
       "2017-08-10 04:00:00+00:00  109.85  109.6700  109.800  2004163       12437   \n",
       "2017-08-11 04:00:00+00:00  109.94  109.6800  109.870  1913253       10113   \n",
       "\n",
       "                                                    \n",
       "                                 vwap daily_return  \n",
       "timestamp                                           \n",
       "2017-08-07 04:00:00+00:00  109.674876          NaN  \n",
       "2017-08-08 04:00:00+00:00  109.577636    -0.000957  \n",
       "2017-08-09 04:00:00+00:00  109.771749     0.000821  \n",
       "2017-08-10 04:00:00+00:00  109.776611     0.001185  \n",
       "2017-08-11 04:00:00+00:00  109.860974     0.000638  "
      ]
     },
     "execution_count": 64,
     "metadata": {},
     "output_type": "execute_result"
    }
   ],
   "source": [
    "MC_30yrs.portfolio_data.head()"
   ]
  },
  {
   "cell_type": "code",
   "execution_count": 39,
   "metadata": {},
   "outputs": [
    {
     "name": "stdout",
     "output_type": "stream",
     "text": [
      "Running Monte Carlo simulation number 0.\n",
      "Running Monte Carlo simulation number 10.\n",
      "Running Monte Carlo simulation number 20.\n",
      "Running Monte Carlo simulation number 30.\n",
      "Running Monte Carlo simulation number 40.\n",
      "Running Monte Carlo simulation number 50.\n",
      "Running Monte Carlo simulation number 60.\n",
      "Running Monte Carlo simulation number 70.\n",
      "Running Monte Carlo simulation number 80.\n",
      "Running Monte Carlo simulation number 90.\n",
      "Running Monte Carlo simulation number 100.\n",
      "Running Monte Carlo simulation number 110.\n",
      "Running Monte Carlo simulation number 120.\n",
      "Running Monte Carlo simulation number 130.\n",
      "Running Monte Carlo simulation number 140.\n",
      "Running Monte Carlo simulation number 150.\n",
      "Running Monte Carlo simulation number 160.\n",
      "Running Monte Carlo simulation number 170.\n",
      "Running Monte Carlo simulation number 180.\n",
      "Running Monte Carlo simulation number 190.\n",
      "Running Monte Carlo simulation number 200.\n",
      "Running Monte Carlo simulation number 210.\n",
      "Running Monte Carlo simulation number 220.\n",
      "Running Monte Carlo simulation number 230.\n",
      "Running Monte Carlo simulation number 240.\n",
      "Running Monte Carlo simulation number 250.\n",
      "Running Monte Carlo simulation number 260.\n",
      "Running Monte Carlo simulation number 270.\n",
      "Running Monte Carlo simulation number 280.\n",
      "Running Monte Carlo simulation number 290.\n",
      "Running Monte Carlo simulation number 300.\n",
      "Running Monte Carlo simulation number 310.\n",
      "Running Monte Carlo simulation number 320.\n",
      "Running Monte Carlo simulation number 330.\n",
      "Running Monte Carlo simulation number 340.\n",
      "Running Monte Carlo simulation number 350.\n",
      "Running Monte Carlo simulation number 360.\n",
      "Running Monte Carlo simulation number 370.\n",
      "Running Monte Carlo simulation number 380.\n",
      "Running Monte Carlo simulation number 390.\n",
      "Running Monte Carlo simulation number 400.\n",
      "Running Monte Carlo simulation number 410.\n",
      "Running Monte Carlo simulation number 420.\n",
      "Running Monte Carlo simulation number 430.\n",
      "Running Monte Carlo simulation number 440.\n",
      "Running Monte Carlo simulation number 450.\n",
      "Running Monte Carlo simulation number 460.\n",
      "Running Monte Carlo simulation number 470.\n",
      "Running Monte Carlo simulation number 480.\n",
      "Running Monte Carlo simulation number 490.\n"
     ]
    },
    {
     "data": {
      "text/html": [
       "<div>\n",
       "<style scoped>\n",
       "    .dataframe tbody tr th:only-of-type {\n",
       "        vertical-align: middle;\n",
       "    }\n",
       "\n",
       "    .dataframe tbody tr th {\n",
       "        vertical-align: top;\n",
       "    }\n",
       "\n",
       "    .dataframe thead th {\n",
       "        text-align: right;\n",
       "    }\n",
       "</style>\n",
       "<table border=\"1\" class=\"dataframe\">\n",
       "  <thead>\n",
       "    <tr style=\"text-align: right;\">\n",
       "      <th></th>\n",
       "      <th>0</th>\n",
       "      <th>1</th>\n",
       "      <th>2</th>\n",
       "      <th>3</th>\n",
       "      <th>4</th>\n",
       "      <th>5</th>\n",
       "      <th>6</th>\n",
       "      <th>7</th>\n",
       "      <th>8</th>\n",
       "      <th>9</th>\n",
       "      <th>...</th>\n",
       "      <th>490</th>\n",
       "      <th>491</th>\n",
       "      <th>492</th>\n",
       "      <th>493</th>\n",
       "      <th>494</th>\n",
       "      <th>495</th>\n",
       "      <th>496</th>\n",
       "      <th>497</th>\n",
       "      <th>498</th>\n",
       "      <th>499</th>\n",
       "    </tr>\n",
       "  </thead>\n",
       "  <tbody>\n",
       "    <tr>\n",
       "      <th>0</th>\n",
       "      <td>1.000000</td>\n",
       "      <td>1.000000</td>\n",
       "      <td>1.000000</td>\n",
       "      <td>1.000000</td>\n",
       "      <td>1.000000</td>\n",
       "      <td>1.000000</td>\n",
       "      <td>1.000000</td>\n",
       "      <td>1.000000</td>\n",
       "      <td>1.000000</td>\n",
       "      <td>1.000000</td>\n",
       "      <td>...</td>\n",
       "      <td>1.000000</td>\n",
       "      <td>1.000000</td>\n",
       "      <td>1.000000</td>\n",
       "      <td>1.000000</td>\n",
       "      <td>1.000000</td>\n",
       "      <td>1.000000</td>\n",
       "      <td>1.000000</td>\n",
       "      <td>1.000000</td>\n",
       "      <td>1.000000</td>\n",
       "      <td>1.000000</td>\n",
       "    </tr>\n",
       "    <tr>\n",
       "      <th>1</th>\n",
       "      <td>1.006734</td>\n",
       "      <td>1.008830</td>\n",
       "      <td>1.009997</td>\n",
       "      <td>0.996882</td>\n",
       "      <td>0.992138</td>\n",
       "      <td>1.005236</td>\n",
       "      <td>0.991616</td>\n",
       "      <td>0.997378</td>\n",
       "      <td>1.014631</td>\n",
       "      <td>0.992124</td>\n",
       "      <td>...</td>\n",
       "      <td>1.001768</td>\n",
       "      <td>0.998832</td>\n",
       "      <td>0.999764</td>\n",
       "      <td>1.011033</td>\n",
       "      <td>1.010396</td>\n",
       "      <td>0.998014</td>\n",
       "      <td>0.993954</td>\n",
       "      <td>1.010503</td>\n",
       "      <td>0.999111</td>\n",
       "      <td>0.988319</td>\n",
       "    </tr>\n",
       "    <tr>\n",
       "      <th>2</th>\n",
       "      <td>1.021881</td>\n",
       "      <td>1.005540</td>\n",
       "      <td>1.006853</td>\n",
       "      <td>0.996119</td>\n",
       "      <td>0.994332</td>\n",
       "      <td>0.999679</td>\n",
       "      <td>0.978381</td>\n",
       "      <td>1.001323</td>\n",
       "      <td>1.016709</td>\n",
       "      <td>0.988649</td>\n",
       "      <td>...</td>\n",
       "      <td>0.991919</td>\n",
       "      <td>1.000712</td>\n",
       "      <td>0.993520</td>\n",
       "      <td>1.010205</td>\n",
       "      <td>1.011228</td>\n",
       "      <td>0.994595</td>\n",
       "      <td>0.985375</td>\n",
       "      <td>0.998057</td>\n",
       "      <td>0.989754</td>\n",
       "      <td>0.981466</td>\n",
       "    </tr>\n",
       "    <tr>\n",
       "      <th>3</th>\n",
       "      <td>1.019276</td>\n",
       "      <td>1.002074</td>\n",
       "      <td>1.018872</td>\n",
       "      <td>1.008206</td>\n",
       "      <td>0.986213</td>\n",
       "      <td>0.991270</td>\n",
       "      <td>0.972903</td>\n",
       "      <td>1.006509</td>\n",
       "      <td>1.013809</td>\n",
       "      <td>0.984161</td>\n",
       "      <td>...</td>\n",
       "      <td>0.990531</td>\n",
       "      <td>0.978907</td>\n",
       "      <td>0.990491</td>\n",
       "      <td>1.027920</td>\n",
       "      <td>1.011354</td>\n",
       "      <td>0.999339</td>\n",
       "      <td>0.981725</td>\n",
       "      <td>0.991634</td>\n",
       "      <td>0.991719</td>\n",
       "      <td>0.983230</td>\n",
       "    </tr>\n",
       "    <tr>\n",
       "      <th>4</th>\n",
       "      <td>1.013034</td>\n",
       "      <td>1.000536</td>\n",
       "      <td>1.019813</td>\n",
       "      <td>1.014086</td>\n",
       "      <td>0.993887</td>\n",
       "      <td>0.987413</td>\n",
       "      <td>0.971490</td>\n",
       "      <td>1.005988</td>\n",
       "      <td>1.014871</td>\n",
       "      <td>0.987849</td>\n",
       "      <td>...</td>\n",
       "      <td>0.992047</td>\n",
       "      <td>0.980315</td>\n",
       "      <td>0.989886</td>\n",
       "      <td>1.026084</td>\n",
       "      <td>1.010472</td>\n",
       "      <td>1.009743</td>\n",
       "      <td>0.974148</td>\n",
       "      <td>0.995615</td>\n",
       "      <td>0.978448</td>\n",
       "      <td>0.983689</td>\n",
       "    </tr>\n",
       "    <tr>\n",
       "      <th>...</th>\n",
       "      <td>...</td>\n",
       "      <td>...</td>\n",
       "      <td>...</td>\n",
       "      <td>...</td>\n",
       "      <td>...</td>\n",
       "      <td>...</td>\n",
       "      <td>...</td>\n",
       "      <td>...</td>\n",
       "      <td>...</td>\n",
       "      <td>...</td>\n",
       "      <td>...</td>\n",
       "      <td>...</td>\n",
       "      <td>...</td>\n",
       "      <td>...</td>\n",
       "      <td>...</td>\n",
       "      <td>...</td>\n",
       "      <td>...</td>\n",
       "      <td>...</td>\n",
       "      <td>...</td>\n",
       "      <td>...</td>\n",
       "      <td>...</td>\n",
       "    </tr>\n",
       "    <tr>\n",
       "      <th>7556</th>\n",
       "      <td>17.126018</td>\n",
       "      <td>24.562415</td>\n",
       "      <td>10.465601</td>\n",
       "      <td>10.599675</td>\n",
       "      <td>18.083679</td>\n",
       "      <td>5.311121</td>\n",
       "      <td>9.198277</td>\n",
       "      <td>3.584515</td>\n",
       "      <td>52.676359</td>\n",
       "      <td>15.056022</td>\n",
       "      <td>...</td>\n",
       "      <td>12.813005</td>\n",
       "      <td>8.149012</td>\n",
       "      <td>6.152673</td>\n",
       "      <td>2.235040</td>\n",
       "      <td>26.162599</td>\n",
       "      <td>4.449493</td>\n",
       "      <td>8.385381</td>\n",
       "      <td>17.376267</td>\n",
       "      <td>16.608711</td>\n",
       "      <td>10.816519</td>\n",
       "    </tr>\n",
       "    <tr>\n",
       "      <th>7557</th>\n",
       "      <td>17.109834</td>\n",
       "      <td>24.383648</td>\n",
       "      <td>10.509541</td>\n",
       "      <td>10.515451</td>\n",
       "      <td>18.285648</td>\n",
       "      <td>5.364081</td>\n",
       "      <td>9.195796</td>\n",
       "      <td>3.585416</td>\n",
       "      <td>53.053466</td>\n",
       "      <td>14.880831</td>\n",
       "      <td>...</td>\n",
       "      <td>12.825166</td>\n",
       "      <td>8.169511</td>\n",
       "      <td>6.186816</td>\n",
       "      <td>2.258129</td>\n",
       "      <td>26.025915</td>\n",
       "      <td>4.417130</td>\n",
       "      <td>8.400817</td>\n",
       "      <td>17.454216</td>\n",
       "      <td>16.559269</td>\n",
       "      <td>10.774500</td>\n",
       "    </tr>\n",
       "    <tr>\n",
       "      <th>7558</th>\n",
       "      <td>17.140766</td>\n",
       "      <td>24.076106</td>\n",
       "      <td>10.403511</td>\n",
       "      <td>10.503906</td>\n",
       "      <td>18.296916</td>\n",
       "      <td>5.344624</td>\n",
       "      <td>9.220292</td>\n",
       "      <td>3.591877</td>\n",
       "      <td>52.785005</td>\n",
       "      <td>14.657104</td>\n",
       "      <td>...</td>\n",
       "      <td>12.770549</td>\n",
       "      <td>8.303836</td>\n",
       "      <td>6.090609</td>\n",
       "      <td>2.254171</td>\n",
       "      <td>25.837184</td>\n",
       "      <td>4.331055</td>\n",
       "      <td>8.329779</td>\n",
       "      <td>17.614293</td>\n",
       "      <td>16.784413</td>\n",
       "      <td>10.838681</td>\n",
       "    </tr>\n",
       "    <tr>\n",
       "      <th>7559</th>\n",
       "      <td>17.249905</td>\n",
       "      <td>24.065860</td>\n",
       "      <td>10.396711</td>\n",
       "      <td>10.439129</td>\n",
       "      <td>18.371625</td>\n",
       "      <td>5.311031</td>\n",
       "      <td>9.365084</td>\n",
       "      <td>3.587789</td>\n",
       "      <td>52.536394</td>\n",
       "      <td>14.586441</td>\n",
       "      <td>...</td>\n",
       "      <td>12.897414</td>\n",
       "      <td>8.493659</td>\n",
       "      <td>6.071804</td>\n",
       "      <td>2.245070</td>\n",
       "      <td>26.157665</td>\n",
       "      <td>4.333351</td>\n",
       "      <td>8.426506</td>\n",
       "      <td>17.721094</td>\n",
       "      <td>16.722506</td>\n",
       "      <td>10.845707</td>\n",
       "    </tr>\n",
       "    <tr>\n",
       "      <th>7560</th>\n",
       "      <td>17.554180</td>\n",
       "      <td>24.073866</td>\n",
       "      <td>10.413208</td>\n",
       "      <td>10.517246</td>\n",
       "      <td>18.279040</td>\n",
       "      <td>5.386675</td>\n",
       "      <td>9.286696</td>\n",
       "      <td>3.648399</td>\n",
       "      <td>51.783390</td>\n",
       "      <td>14.513488</td>\n",
       "      <td>...</td>\n",
       "      <td>12.637608</td>\n",
       "      <td>8.449866</td>\n",
       "      <td>6.127706</td>\n",
       "      <td>2.243103</td>\n",
       "      <td>26.370012</td>\n",
       "      <td>4.327857</td>\n",
       "      <td>8.424847</td>\n",
       "      <td>17.782712</td>\n",
       "      <td>16.720853</td>\n",
       "      <td>10.881873</td>\n",
       "    </tr>\n",
       "  </tbody>\n",
       "</table>\n",
       "<p>7561 rows × 500 columns</p>\n",
       "</div>"
      ],
      "text/plain": [
       "            0          1          2          3          4         5    \\\n",
       "0      1.000000   1.000000   1.000000   1.000000   1.000000  1.000000   \n",
       "1      1.006734   1.008830   1.009997   0.996882   0.992138  1.005236   \n",
       "2      1.021881   1.005540   1.006853   0.996119   0.994332  0.999679   \n",
       "3      1.019276   1.002074   1.018872   1.008206   0.986213  0.991270   \n",
       "4      1.013034   1.000536   1.019813   1.014086   0.993887  0.987413   \n",
       "...         ...        ...        ...        ...        ...       ...   \n",
       "7556  17.126018  24.562415  10.465601  10.599675  18.083679  5.311121   \n",
       "7557  17.109834  24.383648  10.509541  10.515451  18.285648  5.364081   \n",
       "7558  17.140766  24.076106  10.403511  10.503906  18.296916  5.344624   \n",
       "7559  17.249905  24.065860  10.396711  10.439129  18.371625  5.311031   \n",
       "7560  17.554180  24.073866  10.413208  10.517246  18.279040  5.386675   \n",
       "\n",
       "           6         7          8          9    ...        490       491  \\\n",
       "0     1.000000  1.000000   1.000000   1.000000  ...   1.000000  1.000000   \n",
       "1     0.991616  0.997378   1.014631   0.992124  ...   1.001768  0.998832   \n",
       "2     0.978381  1.001323   1.016709   0.988649  ...   0.991919  1.000712   \n",
       "3     0.972903  1.006509   1.013809   0.984161  ...   0.990531  0.978907   \n",
       "4     0.971490  1.005988   1.014871   0.987849  ...   0.992047  0.980315   \n",
       "...        ...       ...        ...        ...  ...        ...       ...   \n",
       "7556  9.198277  3.584515  52.676359  15.056022  ...  12.813005  8.149012   \n",
       "7557  9.195796  3.585416  53.053466  14.880831  ...  12.825166  8.169511   \n",
       "7558  9.220292  3.591877  52.785005  14.657104  ...  12.770549  8.303836   \n",
       "7559  9.365084  3.587789  52.536394  14.586441  ...  12.897414  8.493659   \n",
       "7560  9.286696  3.648399  51.783390  14.513488  ...  12.637608  8.449866   \n",
       "\n",
       "           492       493        494       495       496        497        498  \\\n",
       "0     1.000000  1.000000   1.000000  1.000000  1.000000   1.000000   1.000000   \n",
       "1     0.999764  1.011033   1.010396  0.998014  0.993954   1.010503   0.999111   \n",
       "2     0.993520  1.010205   1.011228  0.994595  0.985375   0.998057   0.989754   \n",
       "3     0.990491  1.027920   1.011354  0.999339  0.981725   0.991634   0.991719   \n",
       "4     0.989886  1.026084   1.010472  1.009743  0.974148   0.995615   0.978448   \n",
       "...        ...       ...        ...       ...       ...        ...        ...   \n",
       "7556  6.152673  2.235040  26.162599  4.449493  8.385381  17.376267  16.608711   \n",
       "7557  6.186816  2.258129  26.025915  4.417130  8.400817  17.454216  16.559269   \n",
       "7558  6.090609  2.254171  25.837184  4.331055  8.329779  17.614293  16.784413   \n",
       "7559  6.071804  2.245070  26.157665  4.333351  8.426506  17.721094  16.722506   \n",
       "7560  6.127706  2.243103  26.370012  4.327857  8.424847  17.782712  16.720853   \n",
       "\n",
       "            499  \n",
       "0      1.000000  \n",
       "1      0.988319  \n",
       "2      0.981466  \n",
       "3      0.983230  \n",
       "4      0.983689  \n",
       "...         ...  \n",
       "7556  10.816519  \n",
       "7557  10.774500  \n",
       "7558  10.838681  \n",
       "7559  10.845707  \n",
       "7560  10.881873  \n",
       "\n",
       "[7561 rows x 500 columns]"
      ]
     },
     "execution_count": 39,
     "metadata": {},
     "output_type": "execute_result"
    }
   ],
   "source": [
    "# Run the Monte Carlo simulation to forecast 30 years cumulative returns\n",
    "MC_30yrs.calc_cumulative_return()"
   ]
  },
  {
   "cell_type": "code",
   "execution_count": 40,
   "metadata": {},
   "outputs": [
    {
     "data": {
      "text/plain": [
       "<Axes: title={'center': '500 Simulations of Cumulative Portfolio Return Trajectories Over the Next 7560 Trading Days.'}>"
      ]
     },
     "execution_count": 40,
     "metadata": {},
     "output_type": "execute_result"
    },
    {
     "data": {
      "image/png": "[encoded data removed]",
      "text/plain": [
       "<Figure size 640x480 with 1 Axes>"
      ]
     },
     "metadata": {},
     "output_type": "display_data"
    }
   ],
   "source": [
    "# Visualize the 30-year Monte Carlo simulation by creating an\n",
    "# overlay line plot\n",
    "MC_30yrs.plot_simulation()"
   ]
  },
  {
   "cell_type": "markdown",
   "metadata": {},
   "source": [
    "#### Step 3: Plot the probability distribution of the Monte Carlo simulation."
   ]
  },
  {
   "cell_type": "code",
   "execution_count": 41,
   "metadata": {},
   "outputs": [
    {
     "data": {
      "text/plain": [
       "<Axes: title={'center': 'Distribution of Final Cumuluative Returns Across All 500 Simulations'}, ylabel='Frequency'>"
      ]
     },
     "execution_count": 41,
     "metadata": {},
     "output_type": "execute_result"
    },
    {
     "data": {
      "image/png": "[encoded data removed]",
      "text/plain": [
       "<Figure size 640x480 with 1 Axes>"
      ]
     },
     "metadata": {},
     "output_type": "display_data"
    }
   ],
   "source": [
    "# Visualize the probability distribution of the 30-year Monte Carlo simulation \n",
    "# by plotting a histogram\n",
    "MC_30yrs.plot_distribution()\n"
   ]
  },
  {
   "cell_type": "markdown",
   "metadata": {},
   "source": [
    "#### Step 4: Generate the summary statistics for the Monte Carlo simulation."
   ]
  },
  {
   "cell_type": "code",
   "execution_count": 42,
   "metadata": {},
   "outputs": [
    {
     "name": "stderr",
     "output_type": "stream",
     "text": [
      "C:\\Users\\mboum\\FinTech-workspace\\Starter_Code (7)\\Starter_Code\\MCForecastTools.py:172: FutureWarning: The series.append method is deprecated and will be removed from pandas in a future version. Use pandas.concat instead.\n",
      "  return metrics.append(ci_series)\n",
      "C:\\Users\\mboum\\FinTech-workspace\\Starter_Code (7)\\Starter_Code\\MCForecastTools.py:172: FutureWarning: The series.append method is deprecated and will be removed from pandas in a future version. Use pandas.concat instead.\n",
      "  return metrics.append(ci_series)\n"
     ]
    },
    {
     "data": {
      "text/plain": [
       "count           500.000000\n",
       "mean             13.312132\n",
       "std              11.298380\n",
       "min               1.108232\n",
       "25%               6.358323\n",
       "50%              10.314613\n",
       "75%              17.060880\n",
       "max             125.905359\n",
       "95% CI Lower      2.299612\n",
       "95% CI Upper     37.523685\n",
       "Name: 7560, dtype: float64"
      ]
     },
     "execution_count": 42,
     "metadata": {},
     "output_type": "execute_result"
    }
   ],
   "source": [
    "# Generate summary statistics from the 30-year Monte Carlo simulation results\n",
    "# Save the results as a variable\n",
    "MC_30yrs_statistics = MC_30yrs.summarize_cumulative_return()\n",
    "\n",
    "\n",
    "# Review the 30-year Monte Carlo summary statistics\n",
    "MC_30yrs.summarize_cumulative_return()"
   ]
  },
  {
   "cell_type": "markdown",
   "metadata": {},
   "source": [
    "### Analyze the Retirement Portfolio Forecasts\n",
    "\n",
    "Using the current value of only the stock and bond portion of the member's portfolio and the summary statistics that you generated from the Monte Carlo simulation, answer the following question in your Jupyter notebook:\n",
    "\n",
    "-  What are the lower and upper bounds for the expected value of the portfolio with a 95% confidence interval?\n"
   ]
  },
  {
   "cell_type": "code",
   "execution_count": 46,
   "metadata": {},
   "outputs": [
    {
     "name": "stdout",
     "output_type": "stream",
     "text": [
      "60688.7\n"
     ]
    }
   ],
   "source": [
    "# Print the current balance of the stock and bond portion of the members portfolio\n",
    "print(total_stocks_bonds)"
   ]
  },
  {
   "cell_type": "code",
   "execution_count": 53,
   "metadata": {},
   "outputs": [
    {
     "name": "stdout",
     "output_type": "stream",
     "text": [
      "There is a 95% confidence for expected value$2.3 and $37.52.\n"
     ]
    }
   ],
   "source": [
    "# Use the lower and upper `95%` confidence intervals to calculate the range of the possible outcomes for the current stock/bond portfolio\n",
    "ci_lower_thirty_cumulative_return = float(round(MC_30yrs_statistics[8],2))\n",
    "ci_upper_thirty_cumulative_return = float(round(MC_30yrs_statistics[9],2))\n",
    "\n",
    "# Print the result of your calculations\n",
    "print(f\"There is a 95% confidence for expected value\"\n",
    "      f\"${ci_lower_thirty_cumulative_return} and ${ci_upper_thirty_cumulative_return}.\")\n"
   ]
  },
  {
   "cell_type": "markdown",
   "metadata": {},
   "source": [
    "### Forecast Cumulative Returns in 10 Years\n",
    "\n",
    "The CTO of the credit union is impressed with your work on these planning tools but wonders if 30 years is a long time to wait until retirement. So, your next task is to adjust the retirement portfolio and run a new Monte Carlo simulation to find out if the changes will allow members to retire earlier.\n",
    "\n",
    "For this new Monte Carlo simulation, do the following: \n",
    "\n",
    "- Forecast the cumulative returns for 10 years from now. Because of the shortened investment horizon (30 years to 10 years), the portfolio needs to invest more heavily in the riskier asset&mdash;that is, stock&mdash;to help accumulate wealth for retirement. \n",
    "\n",
    "- Adjust the weights of the retirement portfolio so that the composition for the Monte Carlo simulation consists of 20% bonds and 80% stocks. \n",
    "\n",
    "- Run the simulation over 500 samples, and use the same data that the API call to Alpaca generated.\n",
    "\n",
    "- Based on the new Monte Carlo simulation, answer the following questions in your Jupyter notebook:\n",
    "\n",
    "    - Using the current value of only the stock and bond portion of the member's portfolio and the summary statistics that you generated from the new Monte Carlo simulation, what are the lower and upper bounds for the expected value of the portfolio (with the new weights) with a 95% confidence interval?\n",
    "\n",
    "    - Will weighting the portfolio more heavily toward stocks allow the credit union members to retire after only 10 years?\n"
   ]
  },
  {
   "cell_type": "code",
   "execution_count": 55,
   "metadata": {},
   "outputs": [
    {
     "data": {
      "text/plain": [
       "<MCForecastTools.MCSimulation at 0x29aa1e70970>"
      ]
     },
     "metadata": {},
     "output_type": "display_data"
    }
   ],
   "source": [
    "# Configure a Monte Carlo simulation to forecast 10 years cumulative returns\n",
    "# The weights should be split 20% to AGG and 80% to SPY.\n",
    "\n",
    "MC_10yrs = MCSimulation(\n",
    "    portfolio_data = df_stock_data,\n",
    "    weights=[.80,.20],\n",
    "    num_simulation=500, \n",
    "    num_trading_days=252*10)\n",
    "# Run 500 samples.\n",
    "# YOUR CODE HERE\n",
    "\n",
    "\n",
    "# Review the simulation input data\n",
    "\n",
    "display(MC_10yrs)"
   ]
  },
  {
   "cell_type": "code",
   "execution_count": 56,
   "metadata": {},
   "outputs": [
    {
     "name": "stdout",
     "output_type": "stream",
     "text": [
      "Running Monte Carlo simulation number 0.\n",
      "Running Monte Carlo simulation number 10.\n",
      "Running Monte Carlo simulation number 20.\n",
      "Running Monte Carlo simulation number 30.\n",
      "Running Monte Carlo simulation number 40.\n",
      "Running Monte Carlo simulation number 50.\n",
      "Running Monte Carlo simulation number 60.\n",
      "Running Monte Carlo simulation number 70.\n",
      "Running Monte Carlo simulation number 80.\n",
      "Running Monte Carlo simulation number 90.\n",
      "Running Monte Carlo simulation number 100.\n",
      "Running Monte Carlo simulation number 110.\n",
      "Running Monte Carlo simulation number 120.\n",
      "Running Monte Carlo simulation number 130.\n",
      "Running Monte Carlo simulation number 140.\n",
      "Running Monte Carlo simulation number 150.\n",
      "Running Monte Carlo simulation number 160.\n",
      "Running Monte Carlo simulation number 170.\n",
      "Running Monte Carlo simulation number 180.\n",
      "Running Monte Carlo simulation number 190.\n",
      "Running Monte Carlo simulation number 200.\n",
      "Running Monte Carlo simulation number 210.\n",
      "Running Monte Carlo simulation number 220.\n",
      "Running Monte Carlo simulation number 230.\n",
      "Running Monte Carlo simulation number 240.\n",
      "Running Monte Carlo simulation number 250.\n",
      "Running Monte Carlo simulation number 260.\n",
      "Running Monte Carlo simulation number 270.\n",
      "Running Monte Carlo simulation number 280.\n",
      "Running Monte Carlo simulation number 290.\n",
      "Running Monte Carlo simulation number 300.\n",
      "Running Monte Carlo simulation number 310.\n",
      "Running Monte Carlo simulation number 320.\n",
      "Running Monte Carlo simulation number 330.\n",
      "Running Monte Carlo simulation number 340.\n",
      "Running Monte Carlo simulation number 350.\n",
      "Running Monte Carlo simulation number 360.\n",
      "Running Monte Carlo simulation number 370.\n",
      "Running Monte Carlo simulation number 380.\n",
      "Running Monte Carlo simulation number 390.\n",
      "Running Monte Carlo simulation number 400.\n",
      "Running Monte Carlo simulation number 410.\n",
      "Running Monte Carlo simulation number 420.\n",
      "Running Monte Carlo simulation number 430.\n",
      "Running Monte Carlo simulation number 440.\n",
      "Running Monte Carlo simulation number 450.\n",
      "Running Monte Carlo simulation number 460.\n",
      "Running Monte Carlo simulation number 470.\n",
      "Running Monte Carlo simulation number 480.\n",
      "Running Monte Carlo simulation number 490.\n"
     ]
    },
    {
     "data": {
      "text/html": [
       "<div>\n",
       "<style scoped>\n",
       "    .dataframe tbody tr th:only-of-type {\n",
       "        vertical-align: middle;\n",
       "    }\n",
       "\n",
       "    .dataframe tbody tr th {\n",
       "        vertical-align: top;\n",
       "    }\n",
       "\n",
       "    .dataframe thead th {\n",
       "        text-align: right;\n",
       "    }\n",
       "</style>\n",
       "<table border=\"1\" class=\"dataframe\">\n",
       "  <thead>\n",
       "    <tr style=\"text-align: right;\">\n",
       "      <th></th>\n",
       "      <th>0</th>\n",
       "      <th>1</th>\n",
       "      <th>2</th>\n",
       "      <th>3</th>\n",
       "      <th>4</th>\n",
       "      <th>5</th>\n",
       "      <th>6</th>\n",
       "      <th>7</th>\n",
       "      <th>8</th>\n",
       "      <th>9</th>\n",
       "      <th>...</th>\n",
       "      <th>490</th>\n",
       "      <th>491</th>\n",
       "      <th>492</th>\n",
       "      <th>493</th>\n",
       "      <th>494</th>\n",
       "      <th>495</th>\n",
       "      <th>496</th>\n",
       "      <th>497</th>\n",
       "      <th>498</th>\n",
       "      <th>499</th>\n",
       "    </tr>\n",
       "  </thead>\n",
       "  <tbody>\n",
       "    <tr>\n",
       "      <th>0</th>\n",
       "      <td>1.000000</td>\n",
       "      <td>1.000000</td>\n",
       "      <td>1.000000</td>\n",
       "      <td>1.000000</td>\n",
       "      <td>1.000000</td>\n",
       "      <td>1.000000</td>\n",
       "      <td>1.000000</td>\n",
       "      <td>1.000000</td>\n",
       "      <td>1.000000</td>\n",
       "      <td>1.000000</td>\n",
       "      <td>...</td>\n",
       "      <td>1.000000</td>\n",
       "      <td>1.000000</td>\n",
       "      <td>1.000000</td>\n",
       "      <td>1.000000</td>\n",
       "      <td>1.000000</td>\n",
       "      <td>1.000000</td>\n",
       "      <td>1.000000</td>\n",
       "      <td>1.000000</td>\n",
       "      <td>1.000000</td>\n",
       "      <td>1.000000</td>\n",
       "    </tr>\n",
       "    <tr>\n",
       "      <th>1</th>\n",
       "      <td>1.004848</td>\n",
       "      <td>0.995985</td>\n",
       "      <td>0.984488</td>\n",
       "      <td>1.000926</td>\n",
       "      <td>1.017192</td>\n",
       "      <td>0.998279</td>\n",
       "      <td>1.016336</td>\n",
       "      <td>0.988759</td>\n",
       "      <td>0.986393</td>\n",
       "      <td>0.986503</td>\n",
       "      <td>...</td>\n",
       "      <td>1.000178</td>\n",
       "      <td>1.006934</td>\n",
       "      <td>0.996410</td>\n",
       "      <td>1.011107</td>\n",
       "      <td>1.023268</td>\n",
       "      <td>1.005756</td>\n",
       "      <td>0.999049</td>\n",
       "      <td>0.995760</td>\n",
       "      <td>0.995454</td>\n",
       "      <td>1.002451</td>\n",
       "    </tr>\n",
       "    <tr>\n",
       "      <th>2</th>\n",
       "      <td>1.003489</td>\n",
       "      <td>1.008567</td>\n",
       "      <td>0.982633</td>\n",
       "      <td>1.020756</td>\n",
       "      <td>1.007198</td>\n",
       "      <td>0.987840</td>\n",
       "      <td>1.021410</td>\n",
       "      <td>0.975634</td>\n",
       "      <td>0.976102</td>\n",
       "      <td>0.987267</td>\n",
       "      <td>...</td>\n",
       "      <td>0.995519</td>\n",
       "      <td>1.002439</td>\n",
       "      <td>1.002386</td>\n",
       "      <td>0.984430</td>\n",
       "      <td>1.029689</td>\n",
       "      <td>1.001333</td>\n",
       "      <td>1.002692</td>\n",
       "      <td>1.007390</td>\n",
       "      <td>0.980187</td>\n",
       "      <td>0.987545</td>\n",
       "    </tr>\n",
       "    <tr>\n",
       "      <th>3</th>\n",
       "      <td>1.008337</td>\n",
       "      <td>1.002729</td>\n",
       "      <td>0.990392</td>\n",
       "      <td>1.007752</td>\n",
       "      <td>1.007375</td>\n",
       "      <td>0.980426</td>\n",
       "      <td>1.031081</td>\n",
       "      <td>0.974996</td>\n",
       "      <td>0.973655</td>\n",
       "      <td>1.006490</td>\n",
       "      <td>...</td>\n",
       "      <td>1.017633</td>\n",
       "      <td>1.016471</td>\n",
       "      <td>0.996672</td>\n",
       "      <td>0.988809</td>\n",
       "      <td>1.030531</td>\n",
       "      <td>1.008882</td>\n",
       "      <td>1.003281</td>\n",
       "      <td>1.005218</td>\n",
       "      <td>0.985640</td>\n",
       "      <td>1.002224</td>\n",
       "    </tr>\n",
       "    <tr>\n",
       "      <th>4</th>\n",
       "      <td>1.013671</td>\n",
       "      <td>0.986931</td>\n",
       "      <td>0.998350</td>\n",
       "      <td>1.013838</td>\n",
       "      <td>1.004599</td>\n",
       "      <td>0.980001</td>\n",
       "      <td>1.032366</td>\n",
       "      <td>0.965149</td>\n",
       "      <td>0.987490</td>\n",
       "      <td>0.998537</td>\n",
       "      <td>...</td>\n",
       "      <td>1.018864</td>\n",
       "      <td>1.015520</td>\n",
       "      <td>1.001759</td>\n",
       "      <td>0.995149</td>\n",
       "      <td>1.047357</td>\n",
       "      <td>1.005213</td>\n",
       "      <td>1.003846</td>\n",
       "      <td>0.993615</td>\n",
       "      <td>0.999310</td>\n",
       "      <td>1.007477</td>\n",
       "    </tr>\n",
       "    <tr>\n",
       "      <th>...</th>\n",
       "      <td>...</td>\n",
       "      <td>...</td>\n",
       "      <td>...</td>\n",
       "      <td>...</td>\n",
       "      <td>...</td>\n",
       "      <td>...</td>\n",
       "      <td>...</td>\n",
       "      <td>...</td>\n",
       "      <td>...</td>\n",
       "      <td>...</td>\n",
       "      <td>...</td>\n",
       "      <td>...</td>\n",
       "      <td>...</td>\n",
       "      <td>...</td>\n",
       "      <td>...</td>\n",
       "      <td>...</td>\n",
       "      <td>...</td>\n",
       "      <td>...</td>\n",
       "      <td>...</td>\n",
       "      <td>...</td>\n",
       "      <td>...</td>\n",
       "    </tr>\n",
       "    <tr>\n",
       "      <th>2516</th>\n",
       "      <td>3.812680</td>\n",
       "      <td>4.160347</td>\n",
       "      <td>2.010284</td>\n",
       "      <td>2.203670</td>\n",
       "      <td>1.897333</td>\n",
       "      <td>0.874839</td>\n",
       "      <td>2.679360</td>\n",
       "      <td>2.973521</td>\n",
       "      <td>3.064753</td>\n",
       "      <td>7.387573</td>\n",
       "      <td>...</td>\n",
       "      <td>2.790625</td>\n",
       "      <td>2.331577</td>\n",
       "      <td>1.561118</td>\n",
       "      <td>3.014075</td>\n",
       "      <td>1.467179</td>\n",
       "      <td>1.320407</td>\n",
       "      <td>4.456858</td>\n",
       "      <td>1.051564</td>\n",
       "      <td>1.987361</td>\n",
       "      <td>0.813960</td>\n",
       "    </tr>\n",
       "    <tr>\n",
       "      <th>2517</th>\n",
       "      <td>3.815049</td>\n",
       "      <td>4.161988</td>\n",
       "      <td>2.054695</td>\n",
       "      <td>2.234483</td>\n",
       "      <td>1.901471</td>\n",
       "      <td>0.866453</td>\n",
       "      <td>2.689126</td>\n",
       "      <td>3.005504</td>\n",
       "      <td>3.109894</td>\n",
       "      <td>7.428798</td>\n",
       "      <td>...</td>\n",
       "      <td>2.821288</td>\n",
       "      <td>2.355258</td>\n",
       "      <td>1.556652</td>\n",
       "      <td>2.998203</td>\n",
       "      <td>1.477103</td>\n",
       "      <td>1.340370</td>\n",
       "      <td>4.457950</td>\n",
       "      <td>1.050167</td>\n",
       "      <td>1.963553</td>\n",
       "      <td>0.808217</td>\n",
       "    </tr>\n",
       "    <tr>\n",
       "      <th>2518</th>\n",
       "      <td>3.834842</td>\n",
       "      <td>4.154583</td>\n",
       "      <td>2.058036</td>\n",
       "      <td>2.271275</td>\n",
       "      <td>1.867284</td>\n",
       "      <td>0.869983</td>\n",
       "      <td>2.762830</td>\n",
       "      <td>3.040420</td>\n",
       "      <td>3.044402</td>\n",
       "      <td>7.406778</td>\n",
       "      <td>...</td>\n",
       "      <td>2.815666</td>\n",
       "      <td>2.394214</td>\n",
       "      <td>1.568134</td>\n",
       "      <td>3.033105</td>\n",
       "      <td>1.468770</td>\n",
       "      <td>1.356671</td>\n",
       "      <td>4.472907</td>\n",
       "      <td>1.035527</td>\n",
       "      <td>1.937099</td>\n",
       "      <td>0.812190</td>\n",
       "    </tr>\n",
       "    <tr>\n",
       "      <th>2519</th>\n",
       "      <td>3.862049</td>\n",
       "      <td>4.046950</td>\n",
       "      <td>2.047160</td>\n",
       "      <td>2.251994</td>\n",
       "      <td>1.863137</td>\n",
       "      <td>0.861218</td>\n",
       "      <td>2.736592</td>\n",
       "      <td>3.053155</td>\n",
       "      <td>3.072654</td>\n",
       "      <td>7.435663</td>\n",
       "      <td>...</td>\n",
       "      <td>2.840359</td>\n",
       "      <td>2.330314</td>\n",
       "      <td>1.573318</td>\n",
       "      <td>3.034611</td>\n",
       "      <td>1.496243</td>\n",
       "      <td>1.345858</td>\n",
       "      <td>4.461393</td>\n",
       "      <td>1.000960</td>\n",
       "      <td>1.971074</td>\n",
       "      <td>0.814790</td>\n",
       "    </tr>\n",
       "    <tr>\n",
       "      <th>2520</th>\n",
       "      <td>3.806370</td>\n",
       "      <td>4.039714</td>\n",
       "      <td>2.019078</td>\n",
       "      <td>2.239520</td>\n",
       "      <td>1.832394</td>\n",
       "      <td>0.859170</td>\n",
       "      <td>2.732995</td>\n",
       "      <td>3.081781</td>\n",
       "      <td>3.100315</td>\n",
       "      <td>7.494401</td>\n",
       "      <td>...</td>\n",
       "      <td>2.823730</td>\n",
       "      <td>2.315002</td>\n",
       "      <td>1.570225</td>\n",
       "      <td>3.038784</td>\n",
       "      <td>1.523728</td>\n",
       "      <td>1.326082</td>\n",
       "      <td>4.457532</td>\n",
       "      <td>0.988539</td>\n",
       "      <td>1.953479</td>\n",
       "      <td>0.794397</td>\n",
       "    </tr>\n",
       "  </tbody>\n",
       "</table>\n",
       "<p>2521 rows × 500 columns</p>\n",
       "</div>"
      ],
      "text/plain": [
       "           0         1         2         3         4         5         6    \\\n",
       "0     1.000000  1.000000  1.000000  1.000000  1.000000  1.000000  1.000000   \n",
       "1     1.004848  0.995985  0.984488  1.000926  1.017192  0.998279  1.016336   \n",
       "2     1.003489  1.008567  0.982633  1.020756  1.007198  0.987840  1.021410   \n",
       "3     1.008337  1.002729  0.990392  1.007752  1.007375  0.980426  1.031081   \n",
       "4     1.013671  0.986931  0.998350  1.013838  1.004599  0.980001  1.032366   \n",
       "...        ...       ...       ...       ...       ...       ...       ...   \n",
       "2516  3.812680  4.160347  2.010284  2.203670  1.897333  0.874839  2.679360   \n",
       "2517  3.815049  4.161988  2.054695  2.234483  1.901471  0.866453  2.689126   \n",
       "2518  3.834842  4.154583  2.058036  2.271275  1.867284  0.869983  2.762830   \n",
       "2519  3.862049  4.046950  2.047160  2.251994  1.863137  0.861218  2.736592   \n",
       "2520  3.806370  4.039714  2.019078  2.239520  1.832394  0.859170  2.732995   \n",
       "\n",
       "           7         8         9    ...       490       491       492  \\\n",
       "0     1.000000  1.000000  1.000000  ...  1.000000  1.000000  1.000000   \n",
       "1     0.988759  0.986393  0.986503  ...  1.000178  1.006934  0.996410   \n",
       "2     0.975634  0.976102  0.987267  ...  0.995519  1.002439  1.002386   \n",
       "3     0.974996  0.973655  1.006490  ...  1.017633  1.016471  0.996672   \n",
       "4     0.965149  0.987490  0.998537  ...  1.018864  1.015520  1.001759   \n",
       "...        ...       ...       ...  ...       ...       ...       ...   \n",
       "2516  2.973521  3.064753  7.387573  ...  2.790625  2.331577  1.561118   \n",
       "2517  3.005504  3.109894  7.428798  ...  2.821288  2.355258  1.556652   \n",
       "2518  3.040420  3.044402  7.406778  ...  2.815666  2.394214  1.568134   \n",
       "2519  3.053155  3.072654  7.435663  ...  2.840359  2.330314  1.573318   \n",
       "2520  3.081781  3.100315  7.494401  ...  2.823730  2.315002  1.570225   \n",
       "\n",
       "           493       494       495       496       497       498       499  \n",
       "0     1.000000  1.000000  1.000000  1.000000  1.000000  1.000000  1.000000  \n",
       "1     1.011107  1.023268  1.005756  0.999049  0.995760  0.995454  1.002451  \n",
       "2     0.984430  1.029689  1.001333  1.002692  1.007390  0.980187  0.987545  \n",
       "3     0.988809  1.030531  1.008882  1.003281  1.005218  0.985640  1.002224  \n",
       "4     0.995149  1.047357  1.005213  1.003846  0.993615  0.999310  1.007477  \n",
       "...        ...       ...       ...       ...       ...       ...       ...  \n",
       "2516  3.014075  1.467179  1.320407  4.456858  1.051564  1.987361  0.813960  \n",
       "2517  2.998203  1.477103  1.340370  4.457950  1.050167  1.963553  0.808217  \n",
       "2518  3.033105  1.468770  1.356671  4.472907  1.035527  1.937099  0.812190  \n",
       "2519  3.034611  1.496243  1.345858  4.461393  1.000960  1.971074  0.814790  \n",
       "2520  3.038784  1.523728  1.326082  4.457532  0.988539  1.953479  0.794397  \n",
       "\n",
       "[2521 rows x 500 columns]"
      ]
     },
     "execution_count": 56,
     "metadata": {},
     "output_type": "execute_result"
    }
   ],
   "source": [
    "# Run the Monte Carlo simulation to forecast 10 years cumulative returns\n",
    "MC_10yrs.calc_cumulative_return()\n"
   ]
  },
  {
   "cell_type": "code",
   "execution_count": 57,
   "metadata": {},
   "outputs": [
    {
     "data": {
      "text/plain": [
       "<Axes: title={'center': '500 Simulations of Cumulative Portfolio Return Trajectories Over the Next 2520 Trading Days.'}>"
      ]
     },
     "execution_count": 57,
     "metadata": {},
     "output_type": "execute_result"
    },
    {
     "data": {
      "image/png": "[encoded data removed]",
      "text/plain": [
       "<Figure size 640x480 with 1 Axes>"
      ]
     },
     "metadata": {},
     "output_type": "display_data"
    }
   ],
   "source": [
    "# Visualize the 10-year Monte Carlo simulation by creating an\n",
    "# overlay line plot\n",
    "MC_10yrs.plot_simulation()\n"
   ]
  },
  {
   "cell_type": "code",
   "execution_count": 58,
   "metadata": {},
   "outputs": [
    {
     "data": {
      "text/plain": [
       "<Axes: title={'center': 'Distribution of Final Cumuluative Returns Across All 500 Simulations'}, ylabel='Frequency'>"
      ]
     },
     "execution_count": 58,
     "metadata": {},
     "output_type": "execute_result"
    },
    {
     "data": {
      "image/png": "[encoded data removed]",
      "text/plain": [
       "<Figure size 640x480 with 1 Axes>"
      ]
     },
     "metadata": {},
     "output_type": "display_data"
    }
   ],
   "source": [
    "# Visualize the probability distribution of the 10-year Monte Carlo simulation \n",
    "# by plotting a histogram\n",
    "MC_10yrs.plot_distribution()\n"
   ]
  },
  {
   "cell_type": "code",
   "execution_count": 60,
   "metadata": {},
   "outputs": [
    {
     "name": "stderr",
     "output_type": "stream",
     "text": [
      "C:\\Users\\mboum\\FinTech-workspace\\Starter_Code (7)\\Starter_Code\\MCForecastTools.py:172: FutureWarning: The series.append method is deprecated and will be removed from pandas in a future version. Use pandas.concat instead.\n",
      "  return metrics.append(ci_series)\n",
      "C:\\Users\\mboum\\FinTech-workspace\\Starter_Code (7)\\Starter_Code\\MCForecastTools.py:172: FutureWarning: The series.append method is deprecated and will be removed from pandas in a future version. Use pandas.concat instead.\n",
      "  return metrics.append(ci_series)\n"
     ]
    },
    {
     "data": {
      "text/plain": [
       "count           500.000000\n",
       "mean              2.869544\n",
       "std               1.578004\n",
       "min               0.407547\n",
       "25%               1.720082\n",
       "50%               2.592915\n",
       "75%               3.605611\n",
       "max              11.316385\n",
       "95% CI Lower      0.900297\n",
       "95% CI Upper      6.664526\n",
       "Name: 2520, dtype: float64"
      ]
     },
     "execution_count": 60,
     "metadata": {},
     "output_type": "execute_result"
    }
   ],
   "source": [
    "# Generate summary statistics from the 10-year Monte Carlo simulation results\n",
    "# Save the results as a variable\n",
    "MC_10yrs_statistics = MC_10yrs.summarize_cumulative_return()\n",
    "\n",
    "\n",
    "# Review the 10-year Monte Carlo summary statistics\n",
    "MC_10yrs.summarize_cumulative_return()"
   ]
  },
  {
   "cell_type": "markdown",
   "metadata": {},
   "source": [
    "### Answer the following questions:"
   ]
  },
  {
   "cell_type": "markdown",
   "metadata": {},
   "source": [
    "#### Question: Using the current value of only the stock and bond portion of the member's portfolio and the summary statistics that you generated from the new Monte Carlo simulation, what are the lower and upper bounds for the expected value of the portfolio (with the new weights) with a 95% confidence interval?"
   ]
  },
  {
   "cell_type": "code",
   "execution_count": null,
   "metadata": {},
   "outputs": [],
   "source": [
    "# Print the current balance of the stock and bond portion of the members portfolio\n",
    "# YOUR CODE HERE\n"
   ]
  },
  {
   "cell_type": "code",
   "execution_count": 62,
   "metadata": {},
   "outputs": [
    {
     "name": "stdout",
     "output_type": "stream",
     "text": [
      "There is a 95% confidence for expected value$0.9 and $6.66.\n"
     ]
    }
   ],
   "source": [
    "# Use the lower and upper `95%` confidence intervals to calculate the range of the possible outcomes for the current stock/bond portfolio\n",
    "ci_lower_ten_cumulative_return = float(round(MC_10yrs_statistics[8],2))\n",
    "ci_upper_ten_cumulative_return = float(round(MC_10yrs_statistics[9],2))\n",
    "\n",
    "# Print the result of your calculations\n",
    "print(f\"There is a 95% confidence for expected value\"\n",
    "      f\"${ci_lower_ten_cumulative_return} and ${ci_upper_ten_cumulative_return}.\")\n"
   ]
  },
  {
   "cell_type": "markdown",
   "metadata": {},
   "source": [
    "#### Question: Will weighting the portfolio more heavily to stocks allow the credit union members to retire after only 10 years?"
   ]
  },
  {
   "cell_type": "raw",
   "metadata": {},
   "source": [
    "**Answer** # YOUR ANSWER HERE"
   ]
  },
  {
   "cell_type": "code",
   "execution_count": null,
   "metadata": {},
   "outputs": [],
   "source": []
  }
 ],
 "metadata": {
  "kernelspec": {
   "display_name": "Python 3 (ipykernel)",
   "language": "python",
   "name": "python3"
  },
  "language_info": {
   "codemirror_mode": {
    "name": "ipython",
    "version": 3
   },
   "file_extension": ".py",
   "mimetype": "text/x-python",
   "name": "python",
   "nbconvert_exporter": "python",
   "pygments_lexer": "ipython3",
   "version": "3.9.16"
  }
 },
 "nbformat": 4,
 "nbformat_minor": 4
}
